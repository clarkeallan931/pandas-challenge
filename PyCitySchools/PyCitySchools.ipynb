{
 "cells": [
  {
   "cell_type": "code",
   "execution_count": 1,
   "id": "36050c68",
   "metadata": {},
   "outputs": [],
   "source": [
    "import os \n",
    "import csv\n",
    "import pandas as pd "
   ]
  },
  {
   "cell_type": "code",
   "execution_count": 2,
   "id": "a2e43a67",
   "metadata": {},
   "outputs": [],
   "source": [
    "schoolspath = os.path.join(\"schools_complete.csv\")"
   ]
  },
  {
   "cell_type": "code",
   "execution_count": 3,
   "id": "b269621b",
   "metadata": {},
   "outputs": [],
   "source": [
    "studentspath = os.path.join(\"students_complete.csv\")"
   ]
  },
  {
   "cell_type": "code",
   "execution_count": 4,
   "id": "3ed90c65",
   "metadata": {},
   "outputs": [],
   "source": [
    "school = pd.read_csv(\"schools_complete.csv\")\n",
    "students = pd.read_csv(\"students_complete.csv\")\n",
    "merge = pd.merge(school,students, on = \"school_name\")\n",
    "work = pd.merge(school,students, on = \"school_name\")"
   ]
  },
  {
   "cell_type": "code",
   "execution_count": 5,
   "id": "b0208ead",
   "metadata": {},
   "outputs": [],
   "source": [
    "school_count = merge[\"school_name\"].unique() #total numbers of unique schools "
   ]
  },
  {
   "cell_type": "code",
   "execution_count": 6,
   "id": "7b2a3889",
   "metadata": {},
   "outputs": [],
   "source": [
    "#Making the District Summary DataFrame "
   ]
  },
  {
   "cell_type": "code",
   "execution_count": 7,
   "id": "4a4436ec",
   "metadata": {},
   "outputs": [
    {
     "data": {
      "text/plain": [
       "array(['Huang High School', 'Figueroa High School', 'Shelton High School',\n",
       "       'Hernandez High School', 'Griffin High School',\n",
       "       'Wilson High School', 'Cabrera High School', 'Bailey High School',\n",
       "       'Holden High School', 'Pena High School', 'Wright High School',\n",
       "       'Rodriguez High School', 'Johnson High School', 'Ford High School',\n",
       "       'Thomas High School'], dtype=object)"
      ]
     },
     "execution_count": 7,
     "metadata": {},
     "output_type": "execute_result"
    }
   ],
   "source": [
    "school_count #total number of unique schools "
   ]
  },
  {
   "cell_type": "code",
   "execution_count": 8,
   "id": "f34550d8",
   "metadata": {},
   "outputs": [],
   "source": [
    "school_count = len(school_count) #counting the schools "
   ]
  },
  {
   "cell_type": "code",
   "execution_count": 9,
   "id": "b901b367",
   "metadata": {},
   "outputs": [
    {
     "data": {
      "text/plain": [
       "15"
      ]
     },
     "execution_count": 9,
     "metadata": {},
     "output_type": "execute_result"
    }
   ],
   "source": [
    "school_count"
   ]
  },
  {
   "cell_type": "code",
   "execution_count": 10,
   "id": "bdf3844e",
   "metadata": {},
   "outputs": [],
   "source": [
    "district_summary = {\"Total Schools\" : [school_count]} #trying to start the DataFrame "
   ]
  },
  {
   "cell_type": "code",
   "execution_count": 11,
   "id": "50cce4a6",
   "metadata": {},
   "outputs": [
    {
     "data": {
      "text/plain": [
       "{'Total Schools': [15]}"
      ]
     },
     "execution_count": 11,
     "metadata": {},
     "output_type": "execute_result"
    }
   ],
   "source": [
    "district_summary"
   ]
  },
  {
   "cell_type": "code",
   "execution_count": 12,
   "id": "022dfd4e",
   "metadata": {},
   "outputs": [],
   "source": [
    "district_summary = pd.DataFrame(district_summary) #starting the DataFrame"
   ]
  },
  {
   "cell_type": "code",
   "execution_count": 13,
   "id": "f4679115",
   "metadata": {},
   "outputs": [],
   "source": [
    "student_list = []\n",
    "for row in students.iterrows():\n",
    "    student_list.append((row[0])) #creating a list of students to count "
   ]
  },
  {
   "cell_type": "code",
   "execution_count": 14,
   "id": "324f9e83",
   "metadata": {},
   "outputs": [],
   "source": [
    "studentcount = len(student_list) #finding the lenth of that list to find the number "
   ]
  },
  {
   "cell_type": "code",
   "execution_count": 15,
   "id": "bc84438c",
   "metadata": {},
   "outputs": [
    {
     "data": {
      "text/plain": [
       "39170"
      ]
     },
     "execution_count": 15,
     "metadata": {},
     "output_type": "execute_result"
    }
   ],
   "source": [
    "studentcount #number of students "
   ]
  },
  {
   "cell_type": "code",
   "execution_count": 16,
   "id": "90a4dae3",
   "metadata": {},
   "outputs": [
    {
     "name": "stderr",
     "output_type": "stream",
     "text": [
      "/var/folders/d2/rs9l0yts25jd2cswktf_sr9c0000gn/T/ipykernel_85819/1430822200.py:3: FutureWarning: Series.__getitem__ treating keys as positions is deprecated. In a future version, integer keys will always be treated as labels (consistent with DataFrame behavior). To access a value by position, use `ser.iloc[pos]`\n",
      "  budget.append(row[4])\n"
     ]
    }
   ],
   "source": [
    "budget = [] #creating a budget list \n",
    "for index, row in school.iterrows():\n",
    "    budget.append(row[4])\n",
    "    \n",
    "    "
   ]
  },
  {
   "cell_type": "code",
   "execution_count": 17,
   "id": "44d1df42",
   "metadata": {},
   "outputs": [
    {
     "data": {
      "text/plain": [
       "[1910635,\n",
       " 1884411,\n",
       " 1056600,\n",
       " 3022020,\n",
       " 917500,\n",
       " 1319574,\n",
       " 1081356,\n",
       " 3124928,\n",
       " 248087,\n",
       " 585858,\n",
       " 1049400,\n",
       " 2547363,\n",
       " 3094650,\n",
       " 1763916,\n",
       " 1043130]"
      ]
     },
     "execution_count": 17,
     "metadata": {},
     "output_type": "execute_result"
    }
   ],
   "source": [
    "budget #budget list that I will loop through to find a total budget "
   ]
  },
  {
   "cell_type": "code",
   "execution_count": 18,
   "id": "220ff6f1",
   "metadata": {},
   "outputs": [],
   "source": [
    "total_budget = 0   #starting at zero and looking though the budget \n",
    "for x in budget:\n",
    "    total_budget = total_budget + x "
   ]
  },
  {
   "cell_type": "code",
   "execution_count": 19,
   "id": "c59b39df",
   "metadata": {},
   "outputs": [
    {
     "data": {
      "text/plain": [
       "24649428"
      ]
     },
     "execution_count": 19,
     "metadata": {},
     "output_type": "execute_result"
    }
   ],
   "source": [
    "total_budget #total companied budet"
   ]
  },
  {
   "cell_type": "code",
   "execution_count": 20,
   "id": "75dd5040",
   "metadata": {},
   "outputs": [],
   "source": [
    "math_score = students[\"math_score\"].mean()   #average math score calculation "
   ]
  },
  {
   "cell_type": "code",
   "execution_count": 21,
   "id": "cfb91f42",
   "metadata": {},
   "outputs": [
    {
     "data": {
      "text/plain": [
       "78.98537145774827"
      ]
     },
     "execution_count": 21,
     "metadata": {},
     "output_type": "execute_result"
    }
   ],
   "source": [
    "math_score  #average math score "
   ]
  },
  {
   "cell_type": "code",
   "execution_count": 22,
   "id": "ea250549",
   "metadata": {},
   "outputs": [],
   "source": [
    "reading_score = students[\"reading_score\"].mean()  #average reading score calcuation "
   ]
  },
  {
   "cell_type": "code",
   "execution_count": 23,
   "id": "5751d941",
   "metadata": {},
   "outputs": [
    {
     "data": {
      "text/plain": [
       "81.87784018381414"
      ]
     },
     "execution_count": 23,
     "metadata": {},
     "output_type": "execute_result"
    }
   ],
   "source": [
    "reading_score #average reading score "
   ]
  },
  {
   "cell_type": "code",
   "execution_count": 24,
   "id": "9c6b0ed8",
   "metadata": {},
   "outputs": [],
   "source": [
    "passing = students.loc[(students[\"math_score\"]>= 70)] #conditional for what passing means (above 70)"
   ]
  },
  {
   "cell_type": "code",
   "execution_count": 25,
   "id": "d746d09c",
   "metadata": {},
   "outputs": [
    {
     "data": {
      "text/html": [
       "<div>\n",
       "<style scoped>\n",
       "    .dataframe tbody tr th:only-of-type {\n",
       "        vertical-align: middle;\n",
       "    }\n",
       "\n",
       "    .dataframe tbody tr th {\n",
       "        vertical-align: top;\n",
       "    }\n",
       "\n",
       "    .dataframe thead th {\n",
       "        text-align: right;\n",
       "    }\n",
       "</style>\n",
       "<table border=\"1\" class=\"dataframe\">\n",
       "  <thead>\n",
       "    <tr style=\"text-align: right;\">\n",
       "      <th></th>\n",
       "      <th>Student ID</th>\n",
       "      <th>student_name</th>\n",
       "      <th>gender</th>\n",
       "      <th>grade</th>\n",
       "      <th>school_name</th>\n",
       "      <th>reading_score</th>\n",
       "      <th>math_score</th>\n",
       "    </tr>\n",
       "  </thead>\n",
       "  <tbody>\n",
       "    <tr>\n",
       "      <th>0</th>\n",
       "      <td>0</td>\n",
       "      <td>Paul Bradley</td>\n",
       "      <td>M</td>\n",
       "      <td>9th</td>\n",
       "      <td>Huang High School</td>\n",
       "      <td>66</td>\n",
       "      <td>79</td>\n",
       "    </tr>\n",
       "    <tr>\n",
       "      <th>4</th>\n",
       "      <td>4</td>\n",
       "      <td>Bonnie Ray</td>\n",
       "      <td>F</td>\n",
       "      <td>9th</td>\n",
       "      <td>Huang High School</td>\n",
       "      <td>97</td>\n",
       "      <td>84</td>\n",
       "    </tr>\n",
       "    <tr>\n",
       "      <th>5</th>\n",
       "      <td>5</td>\n",
       "      <td>Bryan Miranda</td>\n",
       "      <td>M</td>\n",
       "      <td>9th</td>\n",
       "      <td>Huang High School</td>\n",
       "      <td>94</td>\n",
       "      <td>94</td>\n",
       "    </tr>\n",
       "    <tr>\n",
       "      <th>6</th>\n",
       "      <td>6</td>\n",
       "      <td>Sheena Carter</td>\n",
       "      <td>F</td>\n",
       "      <td>11th</td>\n",
       "      <td>Huang High School</td>\n",
       "      <td>82</td>\n",
       "      <td>80</td>\n",
       "    </tr>\n",
       "    <tr>\n",
       "      <th>8</th>\n",
       "      <td>8</td>\n",
       "      <td>Michael Roth</td>\n",
       "      <td>M</td>\n",
       "      <td>10th</td>\n",
       "      <td>Huang High School</td>\n",
       "      <td>95</td>\n",
       "      <td>87</td>\n",
       "    </tr>\n",
       "    <tr>\n",
       "      <th>...</th>\n",
       "      <td>...</td>\n",
       "      <td>...</td>\n",
       "      <td>...</td>\n",
       "      <td>...</td>\n",
       "      <td>...</td>\n",
       "      <td>...</td>\n",
       "      <td>...</td>\n",
       "    </tr>\n",
       "    <tr>\n",
       "      <th>39165</th>\n",
       "      <td>39165</td>\n",
       "      <td>Donna Howard</td>\n",
       "      <td>F</td>\n",
       "      <td>12th</td>\n",
       "      <td>Thomas High School</td>\n",
       "      <td>99</td>\n",
       "      <td>90</td>\n",
       "    </tr>\n",
       "    <tr>\n",
       "      <th>39166</th>\n",
       "      <td>39166</td>\n",
       "      <td>Dawn Bell</td>\n",
       "      <td>F</td>\n",
       "      <td>10th</td>\n",
       "      <td>Thomas High School</td>\n",
       "      <td>95</td>\n",
       "      <td>70</td>\n",
       "    </tr>\n",
       "    <tr>\n",
       "      <th>39167</th>\n",
       "      <td>39167</td>\n",
       "      <td>Rebecca Tanner</td>\n",
       "      <td>F</td>\n",
       "      <td>9th</td>\n",
       "      <td>Thomas High School</td>\n",
       "      <td>73</td>\n",
       "      <td>84</td>\n",
       "    </tr>\n",
       "    <tr>\n",
       "      <th>39168</th>\n",
       "      <td>39168</td>\n",
       "      <td>Desiree Kidd</td>\n",
       "      <td>F</td>\n",
       "      <td>10th</td>\n",
       "      <td>Thomas High School</td>\n",
       "      <td>99</td>\n",
       "      <td>90</td>\n",
       "    </tr>\n",
       "    <tr>\n",
       "      <th>39169</th>\n",
       "      <td>39169</td>\n",
       "      <td>Carolyn Jackson</td>\n",
       "      <td>F</td>\n",
       "      <td>11th</td>\n",
       "      <td>Thomas High School</td>\n",
       "      <td>95</td>\n",
       "      <td>75</td>\n",
       "    </tr>\n",
       "  </tbody>\n",
       "</table>\n",
       "<p>29370 rows × 7 columns</p>\n",
       "</div>"
      ],
      "text/plain": [
       "       Student ID     student_name gender grade         school_name  \\\n",
       "0               0     Paul Bradley      M   9th   Huang High School   \n",
       "4               4       Bonnie Ray      F   9th   Huang High School   \n",
       "5               5    Bryan Miranda      M   9th   Huang High School   \n",
       "6               6    Sheena Carter      F  11th   Huang High School   \n",
       "8               8     Michael Roth      M  10th   Huang High School   \n",
       "...           ...              ...    ...   ...                 ...   \n",
       "39165       39165     Donna Howard      F  12th  Thomas High School   \n",
       "39166       39166        Dawn Bell      F  10th  Thomas High School   \n",
       "39167       39167   Rebecca Tanner      F   9th  Thomas High School   \n",
       "39168       39168     Desiree Kidd      F  10th  Thomas High School   \n",
       "39169       39169  Carolyn Jackson      F  11th  Thomas High School   \n",
       "\n",
       "       reading_score  math_score  \n",
       "0                 66          79  \n",
       "4                 97          84  \n",
       "5                 94          94  \n",
       "6                 82          80  \n",
       "8                 95          87  \n",
       "...              ...         ...  \n",
       "39165             99          90  \n",
       "39166             95          70  \n",
       "39167             73          84  \n",
       "39168             99          90  \n",
       "39169             95          75  \n",
       "\n",
       "[29370 rows x 7 columns]"
      ]
     },
     "execution_count": 25,
     "metadata": {},
     "output_type": "execute_result"
    }
   ],
   "source": [
    "passing"
   ]
  },
  {
   "cell_type": "code",
   "execution_count": 26,
   "id": "d4dcba82",
   "metadata": {},
   "outputs": [],
   "source": [
    "#number of students with grade over 70\n",
    "passing = len(passing.index)"
   ]
  },
  {
   "cell_type": "code",
   "execution_count": 27,
   "id": "335488f0",
   "metadata": {},
   "outputs": [
    {
     "data": {
      "text/plain": [
       "29370"
      ]
     },
     "execution_count": 27,
     "metadata": {},
     "output_type": "execute_result"
    }
   ],
   "source": [
    "passing"
   ]
  },
  {
   "cell_type": "code",
   "execution_count": 28,
   "id": "d8beb653",
   "metadata": {},
   "outputs": [],
   "source": [
    "studentcount = float(studentcount) #demonimator to find pass rate "
   ]
  },
  {
   "cell_type": "code",
   "execution_count": 29,
   "id": "7568abbe",
   "metadata": {},
   "outputs": [],
   "source": [
    "roundrate = round(passing/studentcount,4) #find rate "
   ]
  },
  {
   "cell_type": "code",
   "execution_count": 30,
   "id": "1c05b87c",
   "metadata": {},
   "outputs": [],
   "source": [
    "mathpasspercent = roundrate*100 #make it a percent "
   ]
  },
  {
   "cell_type": "code",
   "execution_count": 31,
   "id": "0f9bf5c8",
   "metadata": {},
   "outputs": [
    {
     "data": {
      "text/plain": [
       "74.98"
      ]
     },
     "execution_count": 31,
     "metadata": {},
     "output_type": "execute_result"
    }
   ],
   "source": [
    "mathpasspercent #percentage of kids passing move "
   ]
  },
  {
   "cell_type": "code",
   "execution_count": 32,
   "id": "0b66e7e7",
   "metadata": {},
   "outputs": [],
   "source": [
    "reading_passing = students.loc[(students[\"reading_score\"]>= 70)] #same things as math but for reading "
   ]
  },
  {
   "cell_type": "code",
   "execution_count": 33,
   "id": "093bd256",
   "metadata": {},
   "outputs": [],
   "source": [
    "reading_passing = len(reading_passing) #same as math "
   ]
  },
  {
   "cell_type": "code",
   "execution_count": 34,
   "id": "b5d35c60",
   "metadata": {},
   "outputs": [
    {
     "data": {
      "text/plain": [
       "39170.0"
      ]
     },
     "execution_count": 34,
     "metadata": {},
     "output_type": "execute_result"
    }
   ],
   "source": [
    "studentcount #same as math "
   ]
  },
  {
   "cell_type": "code",
   "execution_count": 35,
   "id": "4f86a899",
   "metadata": {},
   "outputs": [],
   "source": [
    "reading_passing = float(reading_passing) #same as math "
   ]
  },
  {
   "cell_type": "code",
   "execution_count": 36,
   "id": "2b4b66e2",
   "metadata": {},
   "outputs": [],
   "source": [
    "reading_passing_percentage = reading_passing/studentcount #same as math "
   ]
  },
  {
   "cell_type": "code",
   "execution_count": 37,
   "id": "b8419b19",
   "metadata": {},
   "outputs": [
    {
     "data": {
      "text/plain": [
       "0.8580546336482001"
      ]
     },
     "execution_count": 37,
     "metadata": {},
     "output_type": "execute_result"
    }
   ],
   "source": [
    "reading_passing_percentage  #same as math "
   ]
  },
  {
   "cell_type": "code",
   "execution_count": 38,
   "id": "e34653f8",
   "metadata": {},
   "outputs": [],
   "source": [
    "reading_passing_percentage = round(reading_passing_percentage,3) #rounding so it looks better "
   ]
  },
  {
   "cell_type": "code",
   "execution_count": 39,
   "id": "d1b2ec2b",
   "metadata": {},
   "outputs": [
    {
     "data": {
      "text/plain": [
       "0.858"
      ]
     },
     "execution_count": 39,
     "metadata": {},
     "output_type": "execute_result"
    }
   ],
   "source": [
    "reading_passing_percentage #rounded percentage "
   ]
  },
  {
   "cell_type": "code",
   "execution_count": 40,
   "id": "49e99571",
   "metadata": {},
   "outputs": [],
   "source": [
    "mask = (students[\"math_score\"]>= 70) & (students[\"reading_score\"] >= 70) #mask to break things up "
   ]
  },
  {
   "cell_type": "code",
   "execution_count": 41,
   "id": "bcb3dcc0",
   "metadata": {},
   "outputs": [],
   "source": [
    "overallpass = students.loc[mask] #list of students that passed math and reading "
   ]
  },
  {
   "cell_type": "code",
   "execution_count": 42,
   "id": "27893f8f",
   "metadata": {},
   "outputs": [],
   "source": [
    "overallpass = len(overallpass)#length of list to find number "
   ]
  },
  {
   "cell_type": "code",
   "execution_count": 43,
   "id": "476d8c0f",
   "metadata": {},
   "outputs": [
    {
     "data": {
      "text/plain": [
       "25528"
      ]
     },
     "execution_count": 43,
     "metadata": {},
     "output_type": "execute_result"
    }
   ],
   "source": [
    "overallpass #number of how many passed "
   ]
  },
  {
   "cell_type": "code",
   "execution_count": 44,
   "id": "775f668a",
   "metadata": {},
   "outputs": [],
   "source": [
    "overallpass = float(overallpass) #change data type to float "
   ]
  },
  {
   "cell_type": "code",
   "execution_count": 45,
   "id": "a634a85a",
   "metadata": {},
   "outputs": [],
   "source": [
    "passingboth = overallpass/studentcount #divide by total students "
   ]
  },
  {
   "cell_type": "code",
   "execution_count": 46,
   "id": "35f5e6f8",
   "metadata": {},
   "outputs": [
    {
     "data": {
      "text/plain": [
       "0.6517232575950983"
      ]
     },
     "execution_count": 46,
     "metadata": {},
     "output_type": "execute_result"
    }
   ],
   "source": [
    "passingboth #get percentage "
   ]
  },
  {
   "cell_type": "code",
   "execution_count": 47,
   "id": "8ebfaac9",
   "metadata": {},
   "outputs": [],
   "source": [
    "district_summary[\"Total Students\"] = int(studentcount) #finishing of the dataFrame that I created \n",
    "district_summary[\"Total Budget\"] = float(total_budget)\n",
    "district_summary[\"Average Math Score\"] = math_score\n",
    "district_summary[\"Average Reading Score\"] = reading_score\n",
    "district_summary[\"% Passing Math\"]= mathpasspercent \n",
    "district_summary[\"% Passing Reading\"] = reading_passing_percentage * 100\n",
    "district_summary[\"% Overall Passing\"] = passingboth * 100"
   ]
  },
  {
   "cell_type": "code",
   "execution_count": 48,
   "id": "79f551cd",
   "metadata": {},
   "outputs": [
    {
     "data": {
      "text/html": [
       "<div>\n",
       "<style scoped>\n",
       "    .dataframe tbody tr th:only-of-type {\n",
       "        vertical-align: middle;\n",
       "    }\n",
       "\n",
       "    .dataframe tbody tr th {\n",
       "        vertical-align: top;\n",
       "    }\n",
       "\n",
       "    .dataframe thead th {\n",
       "        text-align: right;\n",
       "    }\n",
       "</style>\n",
       "<table border=\"1\" class=\"dataframe\">\n",
       "  <thead>\n",
       "    <tr style=\"text-align: right;\">\n",
       "      <th></th>\n",
       "      <th>Total Schools</th>\n",
       "      <th>Total Students</th>\n",
       "      <th>Total Budget</th>\n",
       "      <th>Average Math Score</th>\n",
       "      <th>Average Reading Score</th>\n",
       "      <th>% Passing Math</th>\n",
       "      <th>% Passing Reading</th>\n",
       "      <th>% Overall Passing</th>\n",
       "    </tr>\n",
       "  </thead>\n",
       "  <tbody>\n",
       "    <tr>\n",
       "      <th>0</th>\n",
       "      <td>15</td>\n",
       "      <td>39170</td>\n",
       "      <td>24649428.0</td>\n",
       "      <td>78.985371</td>\n",
       "      <td>81.87784</td>\n",
       "      <td>74.98</td>\n",
       "      <td>85.8</td>\n",
       "      <td>65.172326</td>\n",
       "    </tr>\n",
       "  </tbody>\n",
       "</table>\n",
       "</div>"
      ],
      "text/plain": [
       "   Total Schools  Total Students  Total Budget  Average Math Score  \\\n",
       "0             15           39170    24649428.0           78.985371   \n",
       "\n",
       "   Average Reading Score  % Passing Math  % Passing Reading  % Overall Passing  \n",
       "0               81.87784           74.98               85.8          65.172326  "
      ]
     },
     "execution_count": 48,
     "metadata": {},
     "output_type": "execute_result"
    }
   ],
   "source": [
    "district_summary"
   ]
  },
  {
   "cell_type": "code",
   "execution_count": 49,
   "id": "be16b86e",
   "metadata": {},
   "outputs": [],
   "source": [
    "#creating the School Summary DataFrame "
   ]
  },
  {
   "cell_type": "code",
   "execution_count": 50,
   "id": "1f25e56d",
   "metadata": {},
   "outputs": [],
   "source": [
    "schoollist = merge[\"school_name\"].unique() #creating list of schools to adding to dataFrame "
   ]
  },
  {
   "cell_type": "code",
   "execution_count": 51,
   "id": "b97db661",
   "metadata": {},
   "outputs": [],
   "source": [
    "schoollist = schoollist.tolist() #creating list of schools to adding to dataFrame "
   ]
  },
  {
   "cell_type": "code",
   "execution_count": 52,
   "id": "f7b8f630",
   "metadata": {},
   "outputs": [],
   "source": [
    "per_school_summary = pd.DataFrame(schoollist) #create data frame "
   ]
  },
  {
   "cell_type": "code",
   "execution_count": 53,
   "id": "cc42bc29",
   "metadata": {},
   "outputs": [],
   "source": [
    "per_school_summary = per_school_summary.rename(columns = {0: \"School Name\"}) #changing the header name "
   ]
  },
  {
   "cell_type": "code",
   "execution_count": 54,
   "id": "3280bb05",
   "metadata": {},
   "outputs": [],
   "source": [
    "schooltype = school[\"type\"].tolist() #creating a list of types so I can add types to the DataFrame "
   ]
  },
  {
   "cell_type": "code",
   "execution_count": 55,
   "id": "ed2d8789",
   "metadata": {},
   "outputs": [],
   "source": [
    "totalstudents = school[\"size\"].tolist()\n",
    "per_school_summary[\"Total Students\"] = totalstudents #adding the total students"
   ]
  },
  {
   "cell_type": "code",
   "execution_count": 56,
   "id": "00a62150",
   "metadata": {},
   "outputs": [],
   "source": [
    "schooltype\n",
    "per_school_summary[\"School Type\"] = schooltype #adding types to the dataframe "
   ]
  },
  {
   "cell_type": "code",
   "execution_count": 57,
   "id": "f7f90948",
   "metadata": {},
   "outputs": [
    {
     "name": "stderr",
     "output_type": "stream",
     "text": [
      "/var/folders/d2/rs9l0yts25jd2cswktf_sr9c0000gn/T/ipykernel_85819/2004447689.py:3: FutureWarning: Series.__getitem__ treating keys as positions is deprecated. In a future version, integer keys will always be treated as labels (consistent with DataFrame behavior). To access a value by position, use `ser.iloc[pos]`\n",
      "  schoolsize.append(row[3])\n"
     ]
    }
   ],
   "source": [
    "schoolsize = []   #getting a list of school sizes \n",
    "for index, row in school.iterrows():\n",
    "    schoolsize.append(row[3])"
   ]
  },
  {
   "cell_type": "code",
   "execution_count": 58,
   "id": "6f62a4bd",
   "metadata": {},
   "outputs": [],
   "source": [
    "per_school_summary[\"School Size\"] = schoolsize"
   ]
  },
  {
   "cell_type": "code",
   "execution_count": 59,
   "id": "918ad98c",
   "metadata": {},
   "outputs": [],
   "source": [
    "per_school_summary = per_school_summary.sort_values(\"School Name\") #sorting the chart "
   ]
  },
  {
   "cell_type": "code",
   "execution_count": 60,
   "id": "b83982ac",
   "metadata": {},
   "outputs": [],
   "source": [
    "per_school_summary = per_school_summary.reset_index(drop= True)"
   ]
  },
  {
   "cell_type": "code",
   "execution_count": 61,
   "id": "8edd2c02",
   "metadata": {},
   "outputs": [
    {
     "data": {
      "text/html": [
       "<div>\n",
       "<style scoped>\n",
       "    .dataframe tbody tr th:only-of-type {\n",
       "        vertical-align: middle;\n",
       "    }\n",
       "\n",
       "    .dataframe tbody tr th {\n",
       "        vertical-align: top;\n",
       "    }\n",
       "\n",
       "    .dataframe thead th {\n",
       "        text-align: right;\n",
       "    }\n",
       "</style>\n",
       "<table border=\"1\" class=\"dataframe\">\n",
       "  <thead>\n",
       "    <tr style=\"text-align: right;\">\n",
       "      <th></th>\n",
       "      <th>School Name</th>\n",
       "      <th>Total Students</th>\n",
       "      <th>School Type</th>\n",
       "      <th>School Size</th>\n",
       "    </tr>\n",
       "  </thead>\n",
       "  <tbody>\n",
       "    <tr>\n",
       "      <th>0</th>\n",
       "      <td>Bailey High School</td>\n",
       "      <td>4976</td>\n",
       "      <td>District</td>\n",
       "      <td>4976</td>\n",
       "    </tr>\n",
       "    <tr>\n",
       "      <th>1</th>\n",
       "      <td>Cabrera High School</td>\n",
       "      <td>1858</td>\n",
       "      <td>Charter</td>\n",
       "      <td>1858</td>\n",
       "    </tr>\n",
       "    <tr>\n",
       "      <th>2</th>\n",
       "      <td>Figueroa High School</td>\n",
       "      <td>2949</td>\n",
       "      <td>District</td>\n",
       "      <td>2949</td>\n",
       "    </tr>\n",
       "    <tr>\n",
       "      <th>3</th>\n",
       "      <td>Ford High School</td>\n",
       "      <td>2739</td>\n",
       "      <td>District</td>\n",
       "      <td>2739</td>\n",
       "    </tr>\n",
       "    <tr>\n",
       "      <th>4</th>\n",
       "      <td>Griffin High School</td>\n",
       "      <td>1468</td>\n",
       "      <td>Charter</td>\n",
       "      <td>1468</td>\n",
       "    </tr>\n",
       "    <tr>\n",
       "      <th>5</th>\n",
       "      <td>Hernandez High School</td>\n",
       "      <td>4635</td>\n",
       "      <td>District</td>\n",
       "      <td>4635</td>\n",
       "    </tr>\n",
       "    <tr>\n",
       "      <th>6</th>\n",
       "      <td>Holden High School</td>\n",
       "      <td>427</td>\n",
       "      <td>Charter</td>\n",
       "      <td>427</td>\n",
       "    </tr>\n",
       "    <tr>\n",
       "      <th>7</th>\n",
       "      <td>Huang High School</td>\n",
       "      <td>2917</td>\n",
       "      <td>District</td>\n",
       "      <td>2917</td>\n",
       "    </tr>\n",
       "    <tr>\n",
       "      <th>8</th>\n",
       "      <td>Johnson High School</td>\n",
       "      <td>4761</td>\n",
       "      <td>District</td>\n",
       "      <td>4761</td>\n",
       "    </tr>\n",
       "    <tr>\n",
       "      <th>9</th>\n",
       "      <td>Pena High School</td>\n",
       "      <td>962</td>\n",
       "      <td>Charter</td>\n",
       "      <td>962</td>\n",
       "    </tr>\n",
       "    <tr>\n",
       "      <th>10</th>\n",
       "      <td>Rodriguez High School</td>\n",
       "      <td>3999</td>\n",
       "      <td>District</td>\n",
       "      <td>3999</td>\n",
       "    </tr>\n",
       "    <tr>\n",
       "      <th>11</th>\n",
       "      <td>Shelton High School</td>\n",
       "      <td>1761</td>\n",
       "      <td>Charter</td>\n",
       "      <td>1761</td>\n",
       "    </tr>\n",
       "    <tr>\n",
       "      <th>12</th>\n",
       "      <td>Thomas High School</td>\n",
       "      <td>1635</td>\n",
       "      <td>Charter</td>\n",
       "      <td>1635</td>\n",
       "    </tr>\n",
       "    <tr>\n",
       "      <th>13</th>\n",
       "      <td>Wilson High School</td>\n",
       "      <td>2283</td>\n",
       "      <td>Charter</td>\n",
       "      <td>2283</td>\n",
       "    </tr>\n",
       "    <tr>\n",
       "      <th>14</th>\n",
       "      <td>Wright High School</td>\n",
       "      <td>1800</td>\n",
       "      <td>Charter</td>\n",
       "      <td>1800</td>\n",
       "    </tr>\n",
       "  </tbody>\n",
       "</table>\n",
       "</div>"
      ],
      "text/plain": [
       "              School Name  Total Students School Type  School Size\n",
       "0      Bailey High School            4976    District         4976\n",
       "1     Cabrera High School            1858     Charter         1858\n",
       "2    Figueroa High School            2949    District         2949\n",
       "3        Ford High School            2739    District         2739\n",
       "4     Griffin High School            1468     Charter         1468\n",
       "5   Hernandez High School            4635    District         4635\n",
       "6      Holden High School             427     Charter          427\n",
       "7       Huang High School            2917    District         2917\n",
       "8     Johnson High School            4761    District         4761\n",
       "9        Pena High School             962     Charter          962\n",
       "10  Rodriguez High School            3999    District         3999\n",
       "11    Shelton High School            1761     Charter         1761\n",
       "12     Thomas High School            1635     Charter         1635\n",
       "13     Wilson High School            2283     Charter         2283\n",
       "14     Wright High School            1800     Charter         1800"
      ]
     },
     "execution_count": 61,
     "metadata": {},
     "output_type": "execute_result"
    }
   ],
   "source": [
    "per_school_summary"
   ]
  },
  {
   "cell_type": "code",
   "execution_count": 62,
   "id": "3c200882",
   "metadata": {},
   "outputs": [],
   "source": [
    "school = school.sort_values(\"school_name\") #getting school aligned with my new DataFrame "
   ]
  },
  {
   "cell_type": "code",
   "execution_count": 63,
   "id": "225900ae",
   "metadata": {},
   "outputs": [
    {
     "name": "stderr",
     "output_type": "stream",
     "text": [
      "/var/folders/d2/rs9l0yts25jd2cswktf_sr9c0000gn/T/ipykernel_85819/2621274897.py:3: FutureWarning: Series.__getitem__ treating keys as positions is deprecated. In a future version, integer keys will always be treated as labels (consistent with DataFrame behavior). To access a value by position, use `ser.iloc[pos]`\n",
      "  budget.append(row[4])\n"
     ]
    }
   ],
   "source": [
    "budget = [] #creating a budget list \n",
    "for index, row in school.iterrows():\n",
    "    budget.append(row[4])"
   ]
  },
  {
   "cell_type": "code",
   "execution_count": 64,
   "id": "73a35676",
   "metadata": {},
   "outputs": [],
   "source": [
    "per_school_summary [\"Total School Budget\"] = budget  #adding budget "
   ]
  },
  {
   "cell_type": "code",
   "execution_count": 65,
   "id": "cd509763",
   "metadata": {},
   "outputs": [],
   "source": [
    "per_school_summary [\"Total School Budget\"] = per_school_summary [\"Total School Budget\"].astype(float) #making sure it is a float"
   ]
  },
  {
   "cell_type": "code",
   "execution_count": 66,
   "id": "105a8661",
   "metadata": {},
   "outputs": [],
   "source": [
    "del per_school_summary [\"School Size\"]"
   ]
  },
  {
   "cell_type": "code",
   "execution_count": 67,
   "id": "b99961f7",
   "metadata": {},
   "outputs": [],
   "source": [
    "budgetperstudent = per_school_summary[\"Total School Budget\"]/per_school_summary['Total Students'] #formula for budget per student "
   ]
  },
  {
   "cell_type": "code",
   "execution_count": 68,
   "id": "3790bfc5",
   "metadata": {},
   "outputs": [],
   "source": [
    "per_school_summary[\"Budget Per Student\"] = budgetperstudent #adding it to DataFrame "
   ]
  },
  {
   "cell_type": "code",
   "execution_count": 69,
   "id": "b113eb61",
   "metadata": {},
   "outputs": [],
   "source": [
    "per_school_summary[\"Budget Per Student\"] = per_school_summary[\"Budget Per Student\"].astype(float)"
   ]
  },
  {
   "cell_type": "code",
   "execution_count": 70,
   "id": "a9277edc",
   "metadata": {},
   "outputs": [
    {
     "data": {
      "text/plain": [
       "School Name             object\n",
       "Total Students           int64\n",
       "School Type             object\n",
       "Total School Budget    float64\n",
       "Budget Per Student     float64\n",
       "dtype: object"
      ]
     },
     "execution_count": 70,
     "metadata": {},
     "output_type": "execute_result"
    }
   ],
   "source": [
    "per_school_summary.dtypes"
   ]
  },
  {
   "cell_type": "code",
   "execution_count": 71,
   "id": "2078671b",
   "metadata": {},
   "outputs": [
    {
     "data": {
      "text/plain": [
       "School Name             object\n",
       "Total Students           int64\n",
       "School Type             object\n",
       "Total School Budget    float64\n",
       "Budget Per Student     float64\n",
       "dtype: object"
      ]
     },
     "execution_count": 71,
     "metadata": {},
     "output_type": "execute_result"
    }
   ],
   "source": [
    "per_school_summary.dtypes"
   ]
  },
  {
   "cell_type": "code",
   "execution_count": 72,
   "id": "830a73f5",
   "metadata": {},
   "outputs": [],
   "source": [
    "averagemath = work.groupby(\"school_name\")[\"math_score\"].mean()"
   ]
  },
  {
   "cell_type": "code",
   "execution_count": 73,
   "id": "f62ff898",
   "metadata": {},
   "outputs": [],
   "source": [
    "averagemath = list(averagemath)"
   ]
  },
  {
   "cell_type": "code",
   "execution_count": 74,
   "id": "09210a46",
   "metadata": {},
   "outputs": [],
   "source": [
    "per_school_summary[\"Average Math Score\"] = averagemath #adding to Data frame "
   ]
  },
  {
   "cell_type": "code",
   "execution_count": 75,
   "id": "7acd16c1",
   "metadata": {},
   "outputs": [],
   "source": [
    "averagereading = work.groupby(\"school_name\")[\"reading_score\"].mean() #finding average reading scoer "
   ]
  },
  {
   "cell_type": "code",
   "execution_count": 76,
   "id": "d174014b",
   "metadata": {},
   "outputs": [],
   "source": [
    "averagereading = list(averagereading) #converting to list to add to DataFrame "
   ]
  },
  {
   "cell_type": "code",
   "execution_count": 77,
   "id": "146c8d14",
   "metadata": {},
   "outputs": [],
   "source": [
    "per_school_summary[\"Average Reading Score\"] = averagereading  #adding to DataFrame "
   ]
  },
  {
   "cell_type": "code",
   "execution_count": 78,
   "id": "4af09685",
   "metadata": {},
   "outputs": [
    {
     "data": {
      "text/html": [
       "<div>\n",
       "<style scoped>\n",
       "    .dataframe tbody tr th:only-of-type {\n",
       "        vertical-align: middle;\n",
       "    }\n",
       "\n",
       "    .dataframe tbody tr th {\n",
       "        vertical-align: top;\n",
       "    }\n",
       "\n",
       "    .dataframe thead th {\n",
       "        text-align: right;\n",
       "    }\n",
       "</style>\n",
       "<table border=\"1\" class=\"dataframe\">\n",
       "  <thead>\n",
       "    <tr style=\"text-align: right;\">\n",
       "      <th></th>\n",
       "      <th>School Name</th>\n",
       "      <th>Total Students</th>\n",
       "      <th>School Type</th>\n",
       "      <th>Total School Budget</th>\n",
       "      <th>Budget Per Student</th>\n",
       "      <th>Average Math Score</th>\n",
       "      <th>Average Reading Score</th>\n",
       "    </tr>\n",
       "  </thead>\n",
       "  <tbody>\n",
       "    <tr>\n",
       "      <th>0</th>\n",
       "      <td>Bailey High School</td>\n",
       "      <td>4976</td>\n",
       "      <td>District</td>\n",
       "      <td>3124928.0</td>\n",
       "      <td>628.0</td>\n",
       "      <td>77.048432</td>\n",
       "      <td>81.033963</td>\n",
       "    </tr>\n",
       "    <tr>\n",
       "      <th>1</th>\n",
       "      <td>Cabrera High School</td>\n",
       "      <td>1858</td>\n",
       "      <td>Charter</td>\n",
       "      <td>1081356.0</td>\n",
       "      <td>582.0</td>\n",
       "      <td>83.061895</td>\n",
       "      <td>83.975780</td>\n",
       "    </tr>\n",
       "    <tr>\n",
       "      <th>2</th>\n",
       "      <td>Figueroa High School</td>\n",
       "      <td>2949</td>\n",
       "      <td>District</td>\n",
       "      <td>1884411.0</td>\n",
       "      <td>639.0</td>\n",
       "      <td>76.711767</td>\n",
       "      <td>81.158020</td>\n",
       "    </tr>\n",
       "    <tr>\n",
       "      <th>3</th>\n",
       "      <td>Ford High School</td>\n",
       "      <td>2739</td>\n",
       "      <td>District</td>\n",
       "      <td>1763916.0</td>\n",
       "      <td>644.0</td>\n",
       "      <td>77.102592</td>\n",
       "      <td>80.746258</td>\n",
       "    </tr>\n",
       "    <tr>\n",
       "      <th>4</th>\n",
       "      <td>Griffin High School</td>\n",
       "      <td>1468</td>\n",
       "      <td>Charter</td>\n",
       "      <td>917500.0</td>\n",
       "      <td>625.0</td>\n",
       "      <td>83.351499</td>\n",
       "      <td>83.816757</td>\n",
       "    </tr>\n",
       "    <tr>\n",
       "      <th>5</th>\n",
       "      <td>Hernandez High School</td>\n",
       "      <td>4635</td>\n",
       "      <td>District</td>\n",
       "      <td>3022020.0</td>\n",
       "      <td>652.0</td>\n",
       "      <td>77.289752</td>\n",
       "      <td>80.934412</td>\n",
       "    </tr>\n",
       "    <tr>\n",
       "      <th>6</th>\n",
       "      <td>Holden High School</td>\n",
       "      <td>427</td>\n",
       "      <td>Charter</td>\n",
       "      <td>248087.0</td>\n",
       "      <td>581.0</td>\n",
       "      <td>83.803279</td>\n",
       "      <td>83.814988</td>\n",
       "    </tr>\n",
       "    <tr>\n",
       "      <th>7</th>\n",
       "      <td>Huang High School</td>\n",
       "      <td>2917</td>\n",
       "      <td>District</td>\n",
       "      <td>1910635.0</td>\n",
       "      <td>655.0</td>\n",
       "      <td>76.629414</td>\n",
       "      <td>81.182722</td>\n",
       "    </tr>\n",
       "    <tr>\n",
       "      <th>8</th>\n",
       "      <td>Johnson High School</td>\n",
       "      <td>4761</td>\n",
       "      <td>District</td>\n",
       "      <td>3094650.0</td>\n",
       "      <td>650.0</td>\n",
       "      <td>77.072464</td>\n",
       "      <td>80.966394</td>\n",
       "    </tr>\n",
       "    <tr>\n",
       "      <th>9</th>\n",
       "      <td>Pena High School</td>\n",
       "      <td>962</td>\n",
       "      <td>Charter</td>\n",
       "      <td>585858.0</td>\n",
       "      <td>609.0</td>\n",
       "      <td>83.839917</td>\n",
       "      <td>84.044699</td>\n",
       "    </tr>\n",
       "    <tr>\n",
       "      <th>10</th>\n",
       "      <td>Rodriguez High School</td>\n",
       "      <td>3999</td>\n",
       "      <td>District</td>\n",
       "      <td>2547363.0</td>\n",
       "      <td>637.0</td>\n",
       "      <td>76.842711</td>\n",
       "      <td>80.744686</td>\n",
       "    </tr>\n",
       "    <tr>\n",
       "      <th>11</th>\n",
       "      <td>Shelton High School</td>\n",
       "      <td>1761</td>\n",
       "      <td>Charter</td>\n",
       "      <td>1056600.0</td>\n",
       "      <td>600.0</td>\n",
       "      <td>83.359455</td>\n",
       "      <td>83.725724</td>\n",
       "    </tr>\n",
       "    <tr>\n",
       "      <th>12</th>\n",
       "      <td>Thomas High School</td>\n",
       "      <td>1635</td>\n",
       "      <td>Charter</td>\n",
       "      <td>1043130.0</td>\n",
       "      <td>638.0</td>\n",
       "      <td>83.418349</td>\n",
       "      <td>83.848930</td>\n",
       "    </tr>\n",
       "    <tr>\n",
       "      <th>13</th>\n",
       "      <td>Wilson High School</td>\n",
       "      <td>2283</td>\n",
       "      <td>Charter</td>\n",
       "      <td>1319574.0</td>\n",
       "      <td>578.0</td>\n",
       "      <td>83.274201</td>\n",
       "      <td>83.989488</td>\n",
       "    </tr>\n",
       "    <tr>\n",
       "      <th>14</th>\n",
       "      <td>Wright High School</td>\n",
       "      <td>1800</td>\n",
       "      <td>Charter</td>\n",
       "      <td>1049400.0</td>\n",
       "      <td>583.0</td>\n",
       "      <td>83.682222</td>\n",
       "      <td>83.955000</td>\n",
       "    </tr>\n",
       "  </tbody>\n",
       "</table>\n",
       "</div>"
      ],
      "text/plain": [
       "              School Name  Total Students School Type  Total School Budget  \\\n",
       "0      Bailey High School            4976    District            3124928.0   \n",
       "1     Cabrera High School            1858     Charter            1081356.0   \n",
       "2    Figueroa High School            2949    District            1884411.0   \n",
       "3        Ford High School            2739    District            1763916.0   \n",
       "4     Griffin High School            1468     Charter             917500.0   \n",
       "5   Hernandez High School            4635    District            3022020.0   \n",
       "6      Holden High School             427     Charter             248087.0   \n",
       "7       Huang High School            2917    District            1910635.0   \n",
       "8     Johnson High School            4761    District            3094650.0   \n",
       "9        Pena High School             962     Charter             585858.0   \n",
       "10  Rodriguez High School            3999    District            2547363.0   \n",
       "11    Shelton High School            1761     Charter            1056600.0   \n",
       "12     Thomas High School            1635     Charter            1043130.0   \n",
       "13     Wilson High School            2283     Charter            1319574.0   \n",
       "14     Wright High School            1800     Charter            1049400.0   \n",
       "\n",
       "    Budget Per Student  Average Math Score  Average Reading Score  \n",
       "0                628.0           77.048432              81.033963  \n",
       "1                582.0           83.061895              83.975780  \n",
       "2                639.0           76.711767              81.158020  \n",
       "3                644.0           77.102592              80.746258  \n",
       "4                625.0           83.351499              83.816757  \n",
       "5                652.0           77.289752              80.934412  \n",
       "6                581.0           83.803279              83.814988  \n",
       "7                655.0           76.629414              81.182722  \n",
       "8                650.0           77.072464              80.966394  \n",
       "9                609.0           83.839917              84.044699  \n",
       "10               637.0           76.842711              80.744686  \n",
       "11               600.0           83.359455              83.725724  \n",
       "12               638.0           83.418349              83.848930  \n",
       "13               578.0           83.274201              83.989488  \n",
       "14               583.0           83.682222              83.955000  "
      ]
     },
     "execution_count": 78,
     "metadata": {},
     "output_type": "execute_result"
    }
   ],
   "source": [
    "per_school_summary"
   ]
  },
  {
   "cell_type": "code",
   "execution_count": 79,
   "id": "44a95b26",
   "metadata": {},
   "outputs": [],
   "source": [
    "per_school_summary = per_school_summary.set_index(\"School Name\", drop = True)"
   ]
  },
  {
   "cell_type": "code",
   "execution_count": 80,
   "id": "c9399f4a",
   "metadata": {},
   "outputs": [
    {
     "data": {
      "text/html": [
       "<div>\n",
       "<style scoped>\n",
       "    .dataframe tbody tr th:only-of-type {\n",
       "        vertical-align: middle;\n",
       "    }\n",
       "\n",
       "    .dataframe tbody tr th {\n",
       "        vertical-align: top;\n",
       "    }\n",
       "\n",
       "    .dataframe thead th {\n",
       "        text-align: right;\n",
       "    }\n",
       "</style>\n",
       "<table border=\"1\" class=\"dataframe\">\n",
       "  <thead>\n",
       "    <tr style=\"text-align: right;\">\n",
       "      <th></th>\n",
       "      <th>Total Students</th>\n",
       "      <th>School Type</th>\n",
       "      <th>Total School Budget</th>\n",
       "      <th>Budget Per Student</th>\n",
       "      <th>Average Math Score</th>\n",
       "      <th>Average Reading Score</th>\n",
       "    </tr>\n",
       "    <tr>\n",
       "      <th>School Name</th>\n",
       "      <th></th>\n",
       "      <th></th>\n",
       "      <th></th>\n",
       "      <th></th>\n",
       "      <th></th>\n",
       "      <th></th>\n",
       "    </tr>\n",
       "  </thead>\n",
       "  <tbody>\n",
       "    <tr>\n",
       "      <th>Bailey High School</th>\n",
       "      <td>4976</td>\n",
       "      <td>District</td>\n",
       "      <td>3124928.0</td>\n",
       "      <td>628.0</td>\n",
       "      <td>77.048432</td>\n",
       "      <td>81.033963</td>\n",
       "    </tr>\n",
       "    <tr>\n",
       "      <th>Cabrera High School</th>\n",
       "      <td>1858</td>\n",
       "      <td>Charter</td>\n",
       "      <td>1081356.0</td>\n",
       "      <td>582.0</td>\n",
       "      <td>83.061895</td>\n",
       "      <td>83.975780</td>\n",
       "    </tr>\n",
       "    <tr>\n",
       "      <th>Figueroa High School</th>\n",
       "      <td>2949</td>\n",
       "      <td>District</td>\n",
       "      <td>1884411.0</td>\n",
       "      <td>639.0</td>\n",
       "      <td>76.711767</td>\n",
       "      <td>81.158020</td>\n",
       "    </tr>\n",
       "    <tr>\n",
       "      <th>Ford High School</th>\n",
       "      <td>2739</td>\n",
       "      <td>District</td>\n",
       "      <td>1763916.0</td>\n",
       "      <td>644.0</td>\n",
       "      <td>77.102592</td>\n",
       "      <td>80.746258</td>\n",
       "    </tr>\n",
       "    <tr>\n",
       "      <th>Griffin High School</th>\n",
       "      <td>1468</td>\n",
       "      <td>Charter</td>\n",
       "      <td>917500.0</td>\n",
       "      <td>625.0</td>\n",
       "      <td>83.351499</td>\n",
       "      <td>83.816757</td>\n",
       "    </tr>\n",
       "    <tr>\n",
       "      <th>Hernandez High School</th>\n",
       "      <td>4635</td>\n",
       "      <td>District</td>\n",
       "      <td>3022020.0</td>\n",
       "      <td>652.0</td>\n",
       "      <td>77.289752</td>\n",
       "      <td>80.934412</td>\n",
       "    </tr>\n",
       "    <tr>\n",
       "      <th>Holden High School</th>\n",
       "      <td>427</td>\n",
       "      <td>Charter</td>\n",
       "      <td>248087.0</td>\n",
       "      <td>581.0</td>\n",
       "      <td>83.803279</td>\n",
       "      <td>83.814988</td>\n",
       "    </tr>\n",
       "    <tr>\n",
       "      <th>Huang High School</th>\n",
       "      <td>2917</td>\n",
       "      <td>District</td>\n",
       "      <td>1910635.0</td>\n",
       "      <td>655.0</td>\n",
       "      <td>76.629414</td>\n",
       "      <td>81.182722</td>\n",
       "    </tr>\n",
       "    <tr>\n",
       "      <th>Johnson High School</th>\n",
       "      <td>4761</td>\n",
       "      <td>District</td>\n",
       "      <td>3094650.0</td>\n",
       "      <td>650.0</td>\n",
       "      <td>77.072464</td>\n",
       "      <td>80.966394</td>\n",
       "    </tr>\n",
       "    <tr>\n",
       "      <th>Pena High School</th>\n",
       "      <td>962</td>\n",
       "      <td>Charter</td>\n",
       "      <td>585858.0</td>\n",
       "      <td>609.0</td>\n",
       "      <td>83.839917</td>\n",
       "      <td>84.044699</td>\n",
       "    </tr>\n",
       "    <tr>\n",
       "      <th>Rodriguez High School</th>\n",
       "      <td>3999</td>\n",
       "      <td>District</td>\n",
       "      <td>2547363.0</td>\n",
       "      <td>637.0</td>\n",
       "      <td>76.842711</td>\n",
       "      <td>80.744686</td>\n",
       "    </tr>\n",
       "    <tr>\n",
       "      <th>Shelton High School</th>\n",
       "      <td>1761</td>\n",
       "      <td>Charter</td>\n",
       "      <td>1056600.0</td>\n",
       "      <td>600.0</td>\n",
       "      <td>83.359455</td>\n",
       "      <td>83.725724</td>\n",
       "    </tr>\n",
       "    <tr>\n",
       "      <th>Thomas High School</th>\n",
       "      <td>1635</td>\n",
       "      <td>Charter</td>\n",
       "      <td>1043130.0</td>\n",
       "      <td>638.0</td>\n",
       "      <td>83.418349</td>\n",
       "      <td>83.848930</td>\n",
       "    </tr>\n",
       "    <tr>\n",
       "      <th>Wilson High School</th>\n",
       "      <td>2283</td>\n",
       "      <td>Charter</td>\n",
       "      <td>1319574.0</td>\n",
       "      <td>578.0</td>\n",
       "      <td>83.274201</td>\n",
       "      <td>83.989488</td>\n",
       "    </tr>\n",
       "    <tr>\n",
       "      <th>Wright High School</th>\n",
       "      <td>1800</td>\n",
       "      <td>Charter</td>\n",
       "      <td>1049400.0</td>\n",
       "      <td>583.0</td>\n",
       "      <td>83.682222</td>\n",
       "      <td>83.955000</td>\n",
       "    </tr>\n",
       "  </tbody>\n",
       "</table>\n",
       "</div>"
      ],
      "text/plain": [
       "                       Total Students School Type  Total School Budget  \\\n",
       "School Name                                                              \n",
       "Bailey High School               4976    District            3124928.0   \n",
       "Cabrera High School              1858     Charter            1081356.0   \n",
       "Figueroa High School             2949    District            1884411.0   \n",
       "Ford High School                 2739    District            1763916.0   \n",
       "Griffin High School              1468     Charter             917500.0   \n",
       "Hernandez High School            4635    District            3022020.0   \n",
       "Holden High School                427     Charter             248087.0   \n",
       "Huang High School                2917    District            1910635.0   \n",
       "Johnson High School              4761    District            3094650.0   \n",
       "Pena High School                  962     Charter             585858.0   \n",
       "Rodriguez High School            3999    District            2547363.0   \n",
       "Shelton High School              1761     Charter            1056600.0   \n",
       "Thomas High School               1635     Charter            1043130.0   \n",
       "Wilson High School               2283     Charter            1319574.0   \n",
       "Wright High School               1800     Charter            1049400.0   \n",
       "\n",
       "                       Budget Per Student  Average Math Score  \\\n",
       "School Name                                                     \n",
       "Bailey High School                  628.0           77.048432   \n",
       "Cabrera High School                 582.0           83.061895   \n",
       "Figueroa High School                639.0           76.711767   \n",
       "Ford High School                    644.0           77.102592   \n",
       "Griffin High School                 625.0           83.351499   \n",
       "Hernandez High School               652.0           77.289752   \n",
       "Holden High School                  581.0           83.803279   \n",
       "Huang High School                   655.0           76.629414   \n",
       "Johnson High School                 650.0           77.072464   \n",
       "Pena High School                    609.0           83.839917   \n",
       "Rodriguez High School               637.0           76.842711   \n",
       "Shelton High School                 600.0           83.359455   \n",
       "Thomas High School                  638.0           83.418349   \n",
       "Wilson High School                  578.0           83.274201   \n",
       "Wright High School                  583.0           83.682222   \n",
       "\n",
       "                       Average Reading Score  \n",
       "School Name                                   \n",
       "Bailey High School                 81.033963  \n",
       "Cabrera High School                83.975780  \n",
       "Figueroa High School               81.158020  \n",
       "Ford High School                   80.746258  \n",
       "Griffin High School                83.816757  \n",
       "Hernandez High School              80.934412  \n",
       "Holden High School                 83.814988  \n",
       "Huang High School                  81.182722  \n",
       "Johnson High School                80.966394  \n",
       "Pena High School                   84.044699  \n",
       "Rodriguez High School              80.744686  \n",
       "Shelton High School                83.725724  \n",
       "Thomas High School                 83.848930  \n",
       "Wilson High School                 83.989488  \n",
       "Wright High School                 83.955000  "
      ]
     },
     "execution_count": 80,
     "metadata": {},
     "output_type": "execute_result"
    }
   ],
   "source": [
    "per_school_summary"
   ]
  },
  {
   "cell_type": "code",
   "execution_count": 81,
   "id": "f60fb40c",
   "metadata": {},
   "outputs": [],
   "source": [
    "mathpass = work.groupby('school_name')['math_score'].apply(lambda x: (x>=70).sum())  #find who passed math by adding conditinal "
   ]
  },
  {
   "cell_type": "code",
   "execution_count": 82,
   "id": "1de5a0b1",
   "metadata": {},
   "outputs": [],
   "source": [
    "mathpass = list(mathpass) #converting to list to add DataFrame "
   ]
  },
  {
   "cell_type": "code",
   "execution_count": 83,
   "id": "4e669cb3",
   "metadata": {},
   "outputs": [],
   "source": [
    "mathpasspercentage = mathpass/per_school_summary[\"Total Students\"]  #finding the percentage "
   ]
  },
  {
   "cell_type": "code",
   "execution_count": 84,
   "id": "176db9b3",
   "metadata": {},
   "outputs": [],
   "source": [
    "per_school_summary[\"% Passing Math\"] = mathpasspercentage *100 "
   ]
  },
  {
   "cell_type": "code",
   "execution_count": 85,
   "id": "4e6a24a0",
   "metadata": {},
   "outputs": [],
   "source": [
    "readingpass = work.groupby('school_name')['reading_score'].apply(lambda x: (x>=70).sum()) #finding pass reading "
   ]
  },
  {
   "cell_type": "code",
   "execution_count": 86,
   "id": "ddf6a7e8",
   "metadata": {},
   "outputs": [],
   "source": [
    "readingpass = list(readingpass)"
   ]
  },
  {
   "cell_type": "code",
   "execution_count": 87,
   "id": "5c0d2198",
   "metadata": {},
   "outputs": [],
   "source": [
    "readingpasspercentage = readingpass/per_school_summary[\"Total Students\"] #finding percentate "
   ]
  },
  {
   "cell_type": "code",
   "execution_count": 88,
   "id": "0530b37c",
   "metadata": {},
   "outputs": [],
   "source": [
    "per_school_summary[\"% Passing Reading\"] = readingpasspercentage *100"
   ]
  },
  {
   "cell_type": "code",
   "execution_count": 89,
   "id": "08f35651",
   "metadata": {},
   "outputs": [],
   "source": [
    "per_school_summary[\"% Overall Passing\"] = (per_school_summary[\"% Passing Math\"]/100) * (per_school_summary[\"% Passing Reading\"]/100) #method 1"
   ]
  },
  {
   "cell_type": "code",
   "execution_count": 90,
   "id": "577c0bb9",
   "metadata": {},
   "outputs": [],
   "source": [
    "work1 = work.loc[(work['reading_score'] >= 70) & (work['math_score'] >= 70)] #method2"
   ]
  },
  {
   "cell_type": "code",
   "execution_count": 91,
   "id": "62c08fbf",
   "metadata": {},
   "outputs": [],
   "source": [
    "total_passboth = work1.groupby('school_name')[\"School ID\"].count() #method 2"
   ]
  },
  {
   "cell_type": "code",
   "execution_count": 92,
   "id": "ed9cea98",
   "metadata": {},
   "outputs": [],
   "source": [
    "total_schools = work.groupby('school_name')[\"School ID\"].count() #method 2 "
   ]
  },
  {
   "cell_type": "code",
   "execution_count": 93,
   "id": "7e6477b3",
   "metadata": {},
   "outputs": [],
   "source": [
    "overallpassing = (total_passboth/total_schools)*100 #method 2 "
   ]
  },
  {
   "cell_type": "code",
   "execution_count": 94,
   "id": "3b93f700",
   "metadata": {},
   "outputs": [],
   "source": [
    "overallpassing = list(overallpassing) #method 2 "
   ]
  },
  {
   "cell_type": "code",
   "execution_count": 95,
   "id": "64f24e1d",
   "metadata": {},
   "outputs": [],
   "source": [
    "per_school_summary['% Overall Passing2']= overallpassing  #method 2"
   ]
  },
  {
   "cell_type": "code",
   "execution_count": 96,
   "id": "fc7e5952",
   "metadata": {},
   "outputs": [
    {
     "data": {
      "text/html": [
       "<div>\n",
       "<style scoped>\n",
       "    .dataframe tbody tr th:only-of-type {\n",
       "        vertical-align: middle;\n",
       "    }\n",
       "\n",
       "    .dataframe tbody tr th {\n",
       "        vertical-align: top;\n",
       "    }\n",
       "\n",
       "    .dataframe thead th {\n",
       "        text-align: right;\n",
       "    }\n",
       "</style>\n",
       "<table border=\"1\" class=\"dataframe\">\n",
       "  <thead>\n",
       "    <tr style=\"text-align: right;\">\n",
       "      <th></th>\n",
       "      <th>Total Students</th>\n",
       "      <th>School Type</th>\n",
       "      <th>Total School Budget</th>\n",
       "      <th>Budget Per Student</th>\n",
       "      <th>Average Math Score</th>\n",
       "      <th>Average Reading Score</th>\n",
       "      <th>% Passing Math</th>\n",
       "      <th>% Passing Reading</th>\n",
       "      <th>% Overall Passing</th>\n",
       "      <th>% Overall Passing2</th>\n",
       "    </tr>\n",
       "    <tr>\n",
       "      <th>School Name</th>\n",
       "      <th></th>\n",
       "      <th></th>\n",
       "      <th></th>\n",
       "      <th></th>\n",
       "      <th></th>\n",
       "      <th></th>\n",
       "      <th></th>\n",
       "      <th></th>\n",
       "      <th></th>\n",
       "      <th></th>\n",
       "    </tr>\n",
       "  </thead>\n",
       "  <tbody>\n",
       "    <tr>\n",
       "      <th>Bailey High School</th>\n",
       "      <td>4976</td>\n",
       "      <td>District</td>\n",
       "      <td>3124928.0</td>\n",
       "      <td>628.0</td>\n",
       "      <td>77.048432</td>\n",
       "      <td>81.033963</td>\n",
       "      <td>66.680064</td>\n",
       "      <td>81.933280</td>\n",
       "      <td>0.546332</td>\n",
       "      <td>54.642283</td>\n",
       "    </tr>\n",
       "    <tr>\n",
       "      <th>Cabrera High School</th>\n",
       "      <td>1858</td>\n",
       "      <td>Charter</td>\n",
       "      <td>1081356.0</td>\n",
       "      <td>582.0</td>\n",
       "      <td>83.061895</td>\n",
       "      <td>83.975780</td>\n",
       "      <td>94.133477</td>\n",
       "      <td>97.039828</td>\n",
       "      <td>0.913470</td>\n",
       "      <td>91.334769</td>\n",
       "    </tr>\n",
       "    <tr>\n",
       "      <th>Figueroa High School</th>\n",
       "      <td>2949</td>\n",
       "      <td>District</td>\n",
       "      <td>1884411.0</td>\n",
       "      <td>639.0</td>\n",
       "      <td>76.711767</td>\n",
       "      <td>81.158020</td>\n",
       "      <td>65.988471</td>\n",
       "      <td>80.739234</td>\n",
       "      <td>0.532786</td>\n",
       "      <td>53.204476</td>\n",
       "    </tr>\n",
       "    <tr>\n",
       "      <th>Ford High School</th>\n",
       "      <td>2739</td>\n",
       "      <td>District</td>\n",
       "      <td>1763916.0</td>\n",
       "      <td>644.0</td>\n",
       "      <td>77.102592</td>\n",
       "      <td>80.746258</td>\n",
       "      <td>68.309602</td>\n",
       "      <td>79.299014</td>\n",
       "      <td>0.541688</td>\n",
       "      <td>54.289887</td>\n",
       "    </tr>\n",
       "    <tr>\n",
       "      <th>Griffin High School</th>\n",
       "      <td>1468</td>\n",
       "      <td>Charter</td>\n",
       "      <td>917500.0</td>\n",
       "      <td>625.0</td>\n",
       "      <td>83.351499</td>\n",
       "      <td>83.816757</td>\n",
       "      <td>93.392371</td>\n",
       "      <td>97.138965</td>\n",
       "      <td>0.907204</td>\n",
       "      <td>90.599455</td>\n",
       "    </tr>\n",
       "    <tr>\n",
       "      <th>Hernandez High School</th>\n",
       "      <td>4635</td>\n",
       "      <td>District</td>\n",
       "      <td>3022020.0</td>\n",
       "      <td>652.0</td>\n",
       "      <td>77.289752</td>\n",
       "      <td>80.934412</td>\n",
       "      <td>66.752967</td>\n",
       "      <td>80.862999</td>\n",
       "      <td>0.539785</td>\n",
       "      <td>53.527508</td>\n",
       "    </tr>\n",
       "    <tr>\n",
       "      <th>Holden High School</th>\n",
       "      <td>427</td>\n",
       "      <td>Charter</td>\n",
       "      <td>248087.0</td>\n",
       "      <td>581.0</td>\n",
       "      <td>83.803279</td>\n",
       "      <td>83.814988</td>\n",
       "      <td>92.505855</td>\n",
       "      <td>96.252927</td>\n",
       "      <td>0.890396</td>\n",
       "      <td>89.227166</td>\n",
       "    </tr>\n",
       "    <tr>\n",
       "      <th>Huang High School</th>\n",
       "      <td>2917</td>\n",
       "      <td>District</td>\n",
       "      <td>1910635.0</td>\n",
       "      <td>655.0</td>\n",
       "      <td>76.629414</td>\n",
       "      <td>81.182722</td>\n",
       "      <td>65.683922</td>\n",
       "      <td>81.316421</td>\n",
       "      <td>0.534118</td>\n",
       "      <td>53.513884</td>\n",
       "    </tr>\n",
       "    <tr>\n",
       "      <th>Johnson High School</th>\n",
       "      <td>4761</td>\n",
       "      <td>District</td>\n",
       "      <td>3094650.0</td>\n",
       "      <td>650.0</td>\n",
       "      <td>77.072464</td>\n",
       "      <td>80.966394</td>\n",
       "      <td>66.057551</td>\n",
       "      <td>81.222432</td>\n",
       "      <td>0.536535</td>\n",
       "      <td>53.539172</td>\n",
       "    </tr>\n",
       "    <tr>\n",
       "      <th>Pena High School</th>\n",
       "      <td>962</td>\n",
       "      <td>Charter</td>\n",
       "      <td>585858.0</td>\n",
       "      <td>609.0</td>\n",
       "      <td>83.839917</td>\n",
       "      <td>84.044699</td>\n",
       "      <td>94.594595</td>\n",
       "      <td>95.945946</td>\n",
       "      <td>0.907597</td>\n",
       "      <td>90.540541</td>\n",
       "    </tr>\n",
       "    <tr>\n",
       "      <th>Rodriguez High School</th>\n",
       "      <td>3999</td>\n",
       "      <td>District</td>\n",
       "      <td>2547363.0</td>\n",
       "      <td>637.0</td>\n",
       "      <td>76.842711</td>\n",
       "      <td>80.744686</td>\n",
       "      <td>66.366592</td>\n",
       "      <td>80.220055</td>\n",
       "      <td>0.532393</td>\n",
       "      <td>52.988247</td>\n",
       "    </tr>\n",
       "    <tr>\n",
       "      <th>Shelton High School</th>\n",
       "      <td>1761</td>\n",
       "      <td>Charter</td>\n",
       "      <td>1056600.0</td>\n",
       "      <td>600.0</td>\n",
       "      <td>83.359455</td>\n",
       "      <td>83.725724</td>\n",
       "      <td>93.867121</td>\n",
       "      <td>95.854628</td>\n",
       "      <td>0.899760</td>\n",
       "      <td>89.892107</td>\n",
       "    </tr>\n",
       "    <tr>\n",
       "      <th>Thomas High School</th>\n",
       "      <td>1635</td>\n",
       "      <td>Charter</td>\n",
       "      <td>1043130.0</td>\n",
       "      <td>638.0</td>\n",
       "      <td>83.418349</td>\n",
       "      <td>83.848930</td>\n",
       "      <td>93.272171</td>\n",
       "      <td>97.308869</td>\n",
       "      <td>0.907621</td>\n",
       "      <td>90.948012</td>\n",
       "    </tr>\n",
       "    <tr>\n",
       "      <th>Wilson High School</th>\n",
       "      <td>2283</td>\n",
       "      <td>Charter</td>\n",
       "      <td>1319574.0</td>\n",
       "      <td>578.0</td>\n",
       "      <td>83.274201</td>\n",
       "      <td>83.989488</td>\n",
       "      <td>93.867718</td>\n",
       "      <td>96.539641</td>\n",
       "      <td>0.906196</td>\n",
       "      <td>90.582567</td>\n",
       "    </tr>\n",
       "    <tr>\n",
       "      <th>Wright High School</th>\n",
       "      <td>1800</td>\n",
       "      <td>Charter</td>\n",
       "      <td>1049400.0</td>\n",
       "      <td>583.0</td>\n",
       "      <td>83.682222</td>\n",
       "      <td>83.955000</td>\n",
       "      <td>93.333333</td>\n",
       "      <td>96.611111</td>\n",
       "      <td>0.901704</td>\n",
       "      <td>90.333333</td>\n",
       "    </tr>\n",
       "  </tbody>\n",
       "</table>\n",
       "</div>"
      ],
      "text/plain": [
       "                       Total Students School Type  Total School Budget  \\\n",
       "School Name                                                              \n",
       "Bailey High School               4976    District            3124928.0   \n",
       "Cabrera High School              1858     Charter            1081356.0   \n",
       "Figueroa High School             2949    District            1884411.0   \n",
       "Ford High School                 2739    District            1763916.0   \n",
       "Griffin High School              1468     Charter             917500.0   \n",
       "Hernandez High School            4635    District            3022020.0   \n",
       "Holden High School                427     Charter             248087.0   \n",
       "Huang High School                2917    District            1910635.0   \n",
       "Johnson High School              4761    District            3094650.0   \n",
       "Pena High School                  962     Charter             585858.0   \n",
       "Rodriguez High School            3999    District            2547363.0   \n",
       "Shelton High School              1761     Charter            1056600.0   \n",
       "Thomas High School               1635     Charter            1043130.0   \n",
       "Wilson High School               2283     Charter            1319574.0   \n",
       "Wright High School               1800     Charter            1049400.0   \n",
       "\n",
       "                       Budget Per Student  Average Math Score  \\\n",
       "School Name                                                     \n",
       "Bailey High School                  628.0           77.048432   \n",
       "Cabrera High School                 582.0           83.061895   \n",
       "Figueroa High School                639.0           76.711767   \n",
       "Ford High School                    644.0           77.102592   \n",
       "Griffin High School                 625.0           83.351499   \n",
       "Hernandez High School               652.0           77.289752   \n",
       "Holden High School                  581.0           83.803279   \n",
       "Huang High School                   655.0           76.629414   \n",
       "Johnson High School                 650.0           77.072464   \n",
       "Pena High School                    609.0           83.839917   \n",
       "Rodriguez High School               637.0           76.842711   \n",
       "Shelton High School                 600.0           83.359455   \n",
       "Thomas High School                  638.0           83.418349   \n",
       "Wilson High School                  578.0           83.274201   \n",
       "Wright High School                  583.0           83.682222   \n",
       "\n",
       "                       Average Reading Score  % Passing Math  \\\n",
       "School Name                                                    \n",
       "Bailey High School                 81.033963       66.680064   \n",
       "Cabrera High School                83.975780       94.133477   \n",
       "Figueroa High School               81.158020       65.988471   \n",
       "Ford High School                   80.746258       68.309602   \n",
       "Griffin High School                83.816757       93.392371   \n",
       "Hernandez High School              80.934412       66.752967   \n",
       "Holden High School                 83.814988       92.505855   \n",
       "Huang High School                  81.182722       65.683922   \n",
       "Johnson High School                80.966394       66.057551   \n",
       "Pena High School                   84.044699       94.594595   \n",
       "Rodriguez High School              80.744686       66.366592   \n",
       "Shelton High School                83.725724       93.867121   \n",
       "Thomas High School                 83.848930       93.272171   \n",
       "Wilson High School                 83.989488       93.867718   \n",
       "Wright High School                 83.955000       93.333333   \n",
       "\n",
       "                       % Passing Reading  % Overall Passing  \\\n",
       "School Name                                                   \n",
       "Bailey High School             81.933280           0.546332   \n",
       "Cabrera High School            97.039828           0.913470   \n",
       "Figueroa High School           80.739234           0.532786   \n",
       "Ford High School               79.299014           0.541688   \n",
       "Griffin High School            97.138965           0.907204   \n",
       "Hernandez High School          80.862999           0.539785   \n",
       "Holden High School             96.252927           0.890396   \n",
       "Huang High School              81.316421           0.534118   \n",
       "Johnson High School            81.222432           0.536535   \n",
       "Pena High School               95.945946           0.907597   \n",
       "Rodriguez High School          80.220055           0.532393   \n",
       "Shelton High School            95.854628           0.899760   \n",
       "Thomas High School             97.308869           0.907621   \n",
       "Wilson High School             96.539641           0.906196   \n",
       "Wright High School             96.611111           0.901704   \n",
       "\n",
       "                       % Overall Passing2  \n",
       "School Name                                \n",
       "Bailey High School              54.642283  \n",
       "Cabrera High School             91.334769  \n",
       "Figueroa High School            53.204476  \n",
       "Ford High School                54.289887  \n",
       "Griffin High School             90.599455  \n",
       "Hernandez High School           53.527508  \n",
       "Holden High School              89.227166  \n",
       "Huang High School               53.513884  \n",
       "Johnson High School             53.539172  \n",
       "Pena High School                90.540541  \n",
       "Rodriguez High School           52.988247  \n",
       "Shelton High School             89.892107  \n",
       "Thomas High School              90.948012  \n",
       "Wilson High School              90.582567  \n",
       "Wright High School              90.333333  "
      ]
     },
     "execution_count": 96,
     "metadata": {},
     "output_type": "execute_result"
    }
   ],
   "source": [
    "per_school_summary"
   ]
  },
  {
   "cell_type": "code",
   "execution_count": 97,
   "id": "675c0264",
   "metadata": {},
   "outputs": [],
   "source": [
    "per_school_summary[\"% Overall Passing\"] = per_school_summary[\"% Overall Passing\"]*100  "
   ]
  },
  {
   "cell_type": "code",
   "execution_count": 98,
   "id": "912ac975",
   "metadata": {},
   "outputs": [],
   "source": [
    "top_schools = per_school_summary.sort_values(\"% Overall Passing\", ascending = False) #finindg the top overall passing schools "
   ]
  },
  {
   "cell_type": "code",
   "execution_count": 99,
   "id": "6acc24fc",
   "metadata": {},
   "outputs": [
    {
     "data": {
      "text/html": [
       "<div>\n",
       "<style scoped>\n",
       "    .dataframe tbody tr th:only-of-type {\n",
       "        vertical-align: middle;\n",
       "    }\n",
       "\n",
       "    .dataframe tbody tr th {\n",
       "        vertical-align: top;\n",
       "    }\n",
       "\n",
       "    .dataframe thead th {\n",
       "        text-align: right;\n",
       "    }\n",
       "</style>\n",
       "<table border=\"1\" class=\"dataframe\">\n",
       "  <thead>\n",
       "    <tr style=\"text-align: right;\">\n",
       "      <th></th>\n",
       "      <th>Total Students</th>\n",
       "      <th>School Type</th>\n",
       "      <th>Total School Budget</th>\n",
       "      <th>Budget Per Student</th>\n",
       "      <th>Average Math Score</th>\n",
       "      <th>Average Reading Score</th>\n",
       "      <th>% Passing Math</th>\n",
       "      <th>% Passing Reading</th>\n",
       "      <th>% Overall Passing</th>\n",
       "      <th>% Overall Passing2</th>\n",
       "    </tr>\n",
       "    <tr>\n",
       "      <th>School Name</th>\n",
       "      <th></th>\n",
       "      <th></th>\n",
       "      <th></th>\n",
       "      <th></th>\n",
       "      <th></th>\n",
       "      <th></th>\n",
       "      <th></th>\n",
       "      <th></th>\n",
       "      <th></th>\n",
       "      <th></th>\n",
       "    </tr>\n",
       "  </thead>\n",
       "  <tbody>\n",
       "    <tr>\n",
       "      <th>Cabrera High School</th>\n",
       "      <td>1858</td>\n",
       "      <td>Charter</td>\n",
       "      <td>1081356.0</td>\n",
       "      <td>582.0</td>\n",
       "      <td>83.061895</td>\n",
       "      <td>83.975780</td>\n",
       "      <td>94.133477</td>\n",
       "      <td>97.039828</td>\n",
       "      <td>91.346964</td>\n",
       "      <td>91.334769</td>\n",
       "    </tr>\n",
       "    <tr>\n",
       "      <th>Thomas High School</th>\n",
       "      <td>1635</td>\n",
       "      <td>Charter</td>\n",
       "      <td>1043130.0</td>\n",
       "      <td>638.0</td>\n",
       "      <td>83.418349</td>\n",
       "      <td>83.848930</td>\n",
       "      <td>93.272171</td>\n",
       "      <td>97.308869</td>\n",
       "      <td>90.762094</td>\n",
       "      <td>90.948012</td>\n",
       "    </tr>\n",
       "    <tr>\n",
       "      <th>Pena High School</th>\n",
       "      <td>962</td>\n",
       "      <td>Charter</td>\n",
       "      <td>585858.0</td>\n",
       "      <td>609.0</td>\n",
       "      <td>83.839917</td>\n",
       "      <td>84.044699</td>\n",
       "      <td>94.594595</td>\n",
       "      <td>95.945946</td>\n",
       "      <td>90.759679</td>\n",
       "      <td>90.540541</td>\n",
       "    </tr>\n",
       "    <tr>\n",
       "      <th>Griffin High School</th>\n",
       "      <td>1468</td>\n",
       "      <td>Charter</td>\n",
       "      <td>917500.0</td>\n",
       "      <td>625.0</td>\n",
       "      <td>83.351499</td>\n",
       "      <td>83.816757</td>\n",
       "      <td>93.392371</td>\n",
       "      <td>97.138965</td>\n",
       "      <td>90.720382</td>\n",
       "      <td>90.599455</td>\n",
       "    </tr>\n",
       "    <tr>\n",
       "      <th>Wilson High School</th>\n",
       "      <td>2283</td>\n",
       "      <td>Charter</td>\n",
       "      <td>1319574.0</td>\n",
       "      <td>578.0</td>\n",
       "      <td>83.274201</td>\n",
       "      <td>83.989488</td>\n",
       "      <td>93.867718</td>\n",
       "      <td>96.539641</td>\n",
       "      <td>90.619558</td>\n",
       "      <td>90.582567</td>\n",
       "    </tr>\n",
       "  </tbody>\n",
       "</table>\n",
       "</div>"
      ],
      "text/plain": [
       "                     Total Students School Type  Total School Budget  \\\n",
       "School Name                                                            \n",
       "Cabrera High School            1858     Charter            1081356.0   \n",
       "Thomas High School             1635     Charter            1043130.0   \n",
       "Pena High School                962     Charter             585858.0   \n",
       "Griffin High School            1468     Charter             917500.0   \n",
       "Wilson High School             2283     Charter            1319574.0   \n",
       "\n",
       "                     Budget Per Student  Average Math Score  \\\n",
       "School Name                                                   \n",
       "Cabrera High School               582.0           83.061895   \n",
       "Thomas High School                638.0           83.418349   \n",
       "Pena High School                  609.0           83.839917   \n",
       "Griffin High School               625.0           83.351499   \n",
       "Wilson High School                578.0           83.274201   \n",
       "\n",
       "                     Average Reading Score  % Passing Math  % Passing Reading  \\\n",
       "School Name                                                                     \n",
       "Cabrera High School              83.975780       94.133477          97.039828   \n",
       "Thomas High School               83.848930       93.272171          97.308869   \n",
       "Pena High School                 84.044699       94.594595          95.945946   \n",
       "Griffin High School              83.816757       93.392371          97.138965   \n",
       "Wilson High School               83.989488       93.867718          96.539641   \n",
       "\n",
       "                     % Overall Passing  % Overall Passing2  \n",
       "School Name                                                 \n",
       "Cabrera High School          91.346964           91.334769  \n",
       "Thomas High School           90.762094           90.948012  \n",
       "Pena High School             90.759679           90.540541  \n",
       "Griffin High School          90.720382           90.599455  \n",
       "Wilson High School           90.619558           90.582567  "
      ]
     },
     "execution_count": 99,
     "metadata": {},
     "output_type": "execute_result"
    }
   ],
   "source": [
    "top_schools.head(5)"
   ]
  },
  {
   "cell_type": "code",
   "execution_count": 100,
   "id": "215888e4",
   "metadata": {},
   "outputs": [],
   "source": [
    "top_schools2 = per_school_summary.sort_values(\"% Overall Passing2\", ascending = False) #using other method"
   ]
  },
  {
   "cell_type": "code",
   "execution_count": 101,
   "id": "f0331857",
   "metadata": {},
   "outputs": [],
   "source": [
    "#finding the top and bottom schools "
   ]
  },
  {
   "cell_type": "code",
   "execution_count": 102,
   "id": "38c19f11",
   "metadata": {},
   "outputs": [],
   "source": [
    "top_schools = top_schools.head(5) #top schools using the first method i tried "
   ]
  },
  {
   "cell_type": "code",
   "execution_count": 103,
   "id": "a35c6094",
   "metadata": {},
   "outputs": [],
   "source": [
    "top_schools2 = top_schools2.head(5) # top schools using the other method "
   ]
  },
  {
   "cell_type": "code",
   "execution_count": 104,
   "id": "91b6e976",
   "metadata": {},
   "outputs": [],
   "source": [
    "bottom_schools = per_school_summary.sort_values(\"% Overall Passing\", ascending = True)"
   ]
  },
  {
   "cell_type": "code",
   "execution_count": 105,
   "id": "a5b000a2",
   "metadata": {},
   "outputs": [],
   "source": [
    "bottom_schools2 = per_school_summary.sort_values(\"% Overall Passing2\", ascending = True)"
   ]
  },
  {
   "cell_type": "code",
   "execution_count": 106,
   "id": "20cf8baa",
   "metadata": {},
   "outputs": [],
   "source": [
    "bottom_schools = bottom_schools.head(5) #bottom schools using mult method "
   ]
  },
  {
   "cell_type": "code",
   "execution_count": 107,
   "id": "e97fde69",
   "metadata": {},
   "outputs": [],
   "source": [
    "bottom_schools2 = bottom_schools2.head(5) #bottom schoools using .loc and .count method "
   ]
  },
  {
   "cell_type": "code",
   "execution_count": 108,
   "id": "35ed976d",
   "metadata": {},
   "outputs": [],
   "source": [
    "#finding scores by grade "
   ]
  },
  {
   "cell_type": "code",
   "execution_count": 109,
   "id": "8c3676e9",
   "metadata": {},
   "outputs": [],
   "source": [
    "math_scores_by_grade = pd.DataFrame(work.groupby([\"school_name\", \"grade\"])[\"math_score\"].mean()) #staring with math"
   ]
  },
  {
   "cell_type": "code",
   "execution_count": 110,
   "id": "0bf5a72f",
   "metadata": {},
   "outputs": [],
   "source": [
    "ninth_graders = work[(work[\"grade\"] == \"9th\")]#creating variable \n",
    "tenth_graders = work[(work[\"grade\"] == \"10th\")]\n",
    "eleventh_graders = work[(work[\"grade\"] == \"11th\")]\n",
    "twelfth_graders = work[(work[\"grade\"] == \"12th\")]"
   ]
  },
  {
   "cell_type": "code",
   "execution_count": 111,
   "id": "d14e0e45",
   "metadata": {},
   "outputs": [],
   "source": [
    "ninth_graders_scores = ninth_graders.groupby(\"school_name\")[\"math_score\"].mean() #allocating 9th Grade scores "
   ]
  },
  {
   "cell_type": "code",
   "execution_count": 112,
   "id": "24c35cd4",
   "metadata": {},
   "outputs": [],
   "source": [
    "math_scores_by_grade = pd.DataFrame(ninth_graders_scores) #creating DataFrame "
   ]
  },
  {
   "cell_type": "code",
   "execution_count": 113,
   "id": "ef515942",
   "metadata": {},
   "outputs": [],
   "source": [
    "tenth_graders_scores = tenth_graders.groupby(\"school_name\")[\"math_score\"].mean() #fiding the value "
   ]
  },
  {
   "cell_type": "code",
   "execution_count": 114,
   "id": "a83f18ee",
   "metadata": {},
   "outputs": [],
   "source": [
    "math_scores_by_grade[\"10th\"] = tenth_graders_scores #adding 10th grade "
   ]
  },
  {
   "cell_type": "code",
   "execution_count": 115,
   "id": "f33fa5ff",
   "metadata": {},
   "outputs": [],
   "source": [
    "eleventh_graders_scores = eleventh_graders.groupby(\"school_name\")[\"math_score\"].mean() #finding value for 11th"
   ]
  },
  {
   "cell_type": "code",
   "execution_count": 116,
   "id": "22eaf416",
   "metadata": {},
   "outputs": [],
   "source": [
    "math_scores_by_grade[\"11th\"] = eleventh_graders_scores #adding to the DataFrame "
   ]
  },
  {
   "cell_type": "code",
   "execution_count": 117,
   "id": "1002f521",
   "metadata": {},
   "outputs": [],
   "source": [
    "twelfth_graders_scores = twelfth_graders.groupby(\"school_name\")[\"math_score\"].mean() #finding value for 12th grade "
   ]
  },
  {
   "cell_type": "code",
   "execution_count": 118,
   "id": "a5868fe6",
   "metadata": {},
   "outputs": [],
   "source": [
    "math_scores_by_grade[\"12th\"] = twelfth_graders_scores #adding to DataFrame "
   ]
  },
  {
   "cell_type": "code",
   "execution_count": 119,
   "id": "30f9f1f7",
   "metadata": {},
   "outputs": [],
   "source": [
    "math_scores_by_grade = math_scores_by_grade.rename(columns = {\"math_score\":\"9th\"}) #changing column to 9th "
   ]
  },
  {
   "cell_type": "code",
   "execution_count": 120,
   "id": "1a0fe14c",
   "metadata": {},
   "outputs": [],
   "source": [
    "ninth_grader_reading_scores = ninth_graders.groupby(\"school_name\")[\"reading_score\"].mean() #same as math \n",
    "tenth_graders_scores = tenth_graders.groupby(\"school_name\")[\"reading_score\"].mean()\n",
    "eleventh_graders_scores = eleventh_graders.groupby(\"school_name\")[\"reading_score\"].mean()\n",
    "twelfth_graders_scores = twelfth_graders.groupby(\"school_name\")[\"reading_score\"].mean()"
   ]
  },
  {
   "cell_type": "code",
   "execution_count": 121,
   "id": "ee35927b",
   "metadata": {},
   "outputs": [],
   "source": [
    "reading_scores_by_grade = pd.DataFrame(work.groupby([\"school_name\", \"grade\"])[\"reading_score\"].mean()) #same as math "
   ]
  },
  {
   "cell_type": "code",
   "execution_count": 122,
   "id": "ada4dabf",
   "metadata": {},
   "outputs": [],
   "source": [
    "reading_scores_by_grade = pd.DataFrame(ninth_grader_reading_scores)#same as math "
   ]
  },
  {
   "cell_type": "code",
   "execution_count": 123,
   "id": "ef457c6c",
   "metadata": {},
   "outputs": [],
   "source": [
    "reading_scores_by_grade = reading_scores_by_grade.rename(columns = {\"reading_score\": \"9th\"})#same as math "
   ]
  },
  {
   "cell_type": "code",
   "execution_count": 124,
   "id": "06cf314d",
   "metadata": {},
   "outputs": [],
   "source": [
    "reading_scores_by_grade[\"10th\"] = tenth_graders_scores #same as math \n",
    "reading_scores_by_grade[\"11th\"] = eleventh_graders_scores\n",
    "reading_scores_by_grade[\"12th\"] = twelfth_graders_scores"
   ]
  },
  {
   "cell_type": "code",
   "execution_count": 125,
   "id": "0114d0f4",
   "metadata": {},
   "outputs": [],
   "source": [
    "#Spending Bins "
   ]
  },
  {
   "cell_type": "code",
   "execution_count": 126,
   "id": "a4e51f7a",
   "metadata": {},
   "outputs": [],
   "source": [
    "import pandas as pd     #creating column\n",
    "spending_bins = [0, 585, 630, 645, 680]\n",
    "labels2 = [\"<$585\", \"$585-630\", \"$630-645\", \"$645-680\"]\n",
    "per_school_summary[\"Spending Ranges (Per Student)\"] = pd.cut(per_school_summary[\"Budget Per Student\"], spending_bins, labels = labels2, include_lowest = True)"
   ]
  },
  {
   "cell_type": "code",
   "execution_count": 127,
   "id": "4fd3031d",
   "metadata": {},
   "outputs": [
    {
     "name": "stderr",
     "output_type": "stream",
     "text": [
      "/var/folders/d2/rs9l0yts25jd2cswktf_sr9c0000gn/T/ipykernel_85819/2124682077.py:1: FutureWarning: The default of observed=False is deprecated and will be changed to True in a future version of pandas. Pass observed=False to retain current behavior or observed=True to adopt the future default and silence this warning.\n",
      "  spending_math_scores = per_school_summary.groupby([\"Spending Ranges (Per Student)\"])[\"Average Math Score\"].mean()\n"
     ]
    }
   ],
   "source": [
    "spending_math_scores = per_school_summary.groupby([\"Spending Ranges (Per Student)\"])[\"Average Math Score\"].mean()"
   ]
  },
  {
   "cell_type": "code",
   "execution_count": 128,
   "id": "d119d6b5",
   "metadata": {},
   "outputs": [
    {
     "data": {
      "text/plain": [
       "Spending Ranges (Per Student)\n",
       "<$585       83.455399\n",
       "$585-630    81.899826\n",
       "$630-645    78.518855\n",
       "$645-680    76.997210\n",
       "Name: Average Math Score, dtype: float64"
      ]
     },
     "execution_count": 128,
     "metadata": {},
     "output_type": "execute_result"
    }
   ],
   "source": [
    "spending_math_scores"
   ]
  },
  {
   "cell_type": "code",
   "execution_count": 129,
   "id": "d082c722",
   "metadata": {},
   "outputs": [
    {
     "name": "stderr",
     "output_type": "stream",
     "text": [
      "/var/folders/d2/rs9l0yts25jd2cswktf_sr9c0000gn/T/ipykernel_85819/3181228643.py:1: FutureWarning: The default of observed=False is deprecated and will be changed to True in a future version of pandas. Pass observed=False to retain current behavior or observed=True to adopt the future default and silence this warning.\n",
      "  spending_reading_scores = per_school_summary.groupby([\"Spending Ranges (Per Student)\"])[\"Average Reading Score\"].mean()\n"
     ]
    }
   ],
   "source": [
    "spending_reading_scores = per_school_summary.groupby([\"Spending Ranges (Per Student)\"])[\"Average Reading Score\"].mean()"
   ]
  },
  {
   "cell_type": "code",
   "execution_count": 130,
   "id": "37204d89",
   "metadata": {},
   "outputs": [
    {
     "data": {
      "text/plain": [
       "Spending Ranges (Per Student)\n",
       "<$585       83.933814\n",
       "$585-630    83.155286\n",
       "$630-645    81.624473\n",
       "$645-680    81.027843\n",
       "Name: Average Reading Score, dtype: float64"
      ]
     },
     "execution_count": 130,
     "metadata": {},
     "output_type": "execute_result"
    }
   ],
   "source": [
    "spending_reading_scores"
   ]
  },
  {
   "cell_type": "code",
   "execution_count": 131,
   "id": "577997ce",
   "metadata": {},
   "outputs": [
    {
     "name": "stderr",
     "output_type": "stream",
     "text": [
      "/var/folders/d2/rs9l0yts25jd2cswktf_sr9c0000gn/T/ipykernel_85819/258156150.py:1: FutureWarning: The default of observed=False is deprecated and will be changed to True in a future version of pandas. Pass observed=False to retain current behavior or observed=True to adopt the future default and silence this warning.\n",
      "  spending_passing_math = per_school_summary.groupby([\"Spending Ranges (Per Student)\"])[\"% Passing Math\"].mean()\n"
     ]
    }
   ],
   "source": [
    "spending_passing_math = per_school_summary.groupby([\"Spending Ranges (Per Student)\"])[\"% Passing Math\"].mean()"
   ]
  },
  {
   "cell_type": "code",
   "execution_count": 132,
   "id": "8ad50b0b",
   "metadata": {},
   "outputs": [
    {
     "data": {
      "text/plain": [
       "Spending Ranges (Per Student)\n",
       "<$585       93.460096\n",
       "$585-630    87.133538\n",
       "$630-645    73.484209\n",
       "$645-680    66.164813\n",
       "Name: % Passing Math, dtype: float64"
      ]
     },
     "execution_count": 132,
     "metadata": {},
     "output_type": "execute_result"
    }
   ],
   "source": [
    "spending_passing_math"
   ]
  },
  {
   "cell_type": "code",
   "execution_count": 133,
   "id": "b5c321bd",
   "metadata": {},
   "outputs": [
    {
     "name": "stderr",
     "output_type": "stream",
     "text": [
      "/var/folders/d2/rs9l0yts25jd2cswktf_sr9c0000gn/T/ipykernel_85819/98777375.py:1: FutureWarning: The default of observed=False is deprecated and will be changed to True in a future version of pandas. Pass observed=False to retain current behavior or observed=True to adopt the future default and silence this warning.\n",
      "  spending_passing_reading = per_school_summary.groupby([\"Spending Ranges (Per Student)\"])[\"% Passing Reading\"].mean()\n"
     ]
    }
   ],
   "source": [
    "spending_passing_reading = per_school_summary.groupby([\"Spending Ranges (Per Student)\"])[\"% Passing Reading\"].mean()"
   ]
  },
  {
   "cell_type": "code",
   "execution_count": 134,
   "id": "85d1fddc",
   "metadata": {},
   "outputs": [
    {
     "data": {
      "text/plain": [
       "Spending Ranges (Per Student)\n",
       "<$585       96.610877\n",
       "$585-630    92.718205\n",
       "$630-645    84.391793\n",
       "$645-680    81.133951\n",
       "Name: % Passing Reading, dtype: float64"
      ]
     },
     "execution_count": 134,
     "metadata": {},
     "output_type": "execute_result"
    }
   ],
   "source": [
    "spending_passing_reading"
   ]
  },
  {
   "cell_type": "code",
   "execution_count": 135,
   "id": "ce2ba1da",
   "metadata": {},
   "outputs": [
    {
     "name": "stderr",
     "output_type": "stream",
     "text": [
      "/var/folders/d2/rs9l0yts25jd2cswktf_sr9c0000gn/T/ipykernel_85819/1977080567.py:1: FutureWarning: The default of observed=False is deprecated and will be changed to True in a future version of pandas. Pass observed=False to retain current behavior or observed=True to adopt the future default and silence this warning.\n",
      "  overall_passing_spending = per_school_summary.groupby([\"Spending Ranges (Per Student)\"])[\"% Overall Passing\"].mean()\n"
     ]
    }
   ],
   "source": [
    "overall_passing_spending = per_school_summary.groupby([\"Spending Ranges (Per Student)\"])[\"% Overall Passing\"].mean()"
   ]
  },
  {
   "cell_type": "code",
   "execution_count": 136,
   "id": "240647e6",
   "metadata": {},
   "outputs": [
    {
     "data": {
      "text/plain": [
       "Spending Ranges (Per Student)\n",
       "<$585       90.294121\n",
       "$585-630    81.522301\n",
       "$630-645    62.862209\n",
       "$645-680    53.681272\n",
       "Name: % Overall Passing, dtype: float64"
      ]
     },
     "execution_count": 136,
     "metadata": {},
     "output_type": "execute_result"
    }
   ],
   "source": [
    "overall_passing_spending"
   ]
  },
  {
   "cell_type": "code",
   "execution_count": 137,
   "id": "d1c0f8f7",
   "metadata": {},
   "outputs": [],
   "source": [
    "spending_summary = pd.DataFrame(spending_math_scores)"
   ]
  },
  {
   "cell_type": "code",
   "execution_count": 138,
   "id": "254777d7",
   "metadata": {},
   "outputs": [],
   "source": [
    "spending_summary[\"Average Reading Score\"]=  spending_reading_scores"
   ]
  },
  {
   "cell_type": "code",
   "execution_count": 139,
   "id": "eac65f93",
   "metadata": {},
   "outputs": [],
   "source": [
    "spending_summary[\"% Passing Math\"] = spending_passing_math"
   ]
  },
  {
   "cell_type": "code",
   "execution_count": 140,
   "id": "8f699203",
   "metadata": {},
   "outputs": [],
   "source": [
    "spending_summary[\"% Passing Reading\"] = spending_passing_reading"
   ]
  },
  {
   "cell_type": "code",
   "execution_count": 141,
   "id": "52520e57",
   "metadata": {},
   "outputs": [],
   "source": [
    "spending_summary[\"% Overall Passing\"] = overall_passing_spending"
   ]
  },
  {
   "cell_type": "code",
   "execution_count": 142,
   "id": "c572fee7",
   "metadata": {},
   "outputs": [
    {
     "data": {
      "text/html": [
       "<div>\n",
       "<style scoped>\n",
       "    .dataframe tbody tr th:only-of-type {\n",
       "        vertical-align: middle;\n",
       "    }\n",
       "\n",
       "    .dataframe tbody tr th {\n",
       "        vertical-align: top;\n",
       "    }\n",
       "\n",
       "    .dataframe thead th {\n",
       "        text-align: right;\n",
       "    }\n",
       "</style>\n",
       "<table border=\"1\" class=\"dataframe\">\n",
       "  <thead>\n",
       "    <tr style=\"text-align: right;\">\n",
       "      <th></th>\n",
       "      <th>Average Math Score</th>\n",
       "      <th>Average Reading Score</th>\n",
       "      <th>% Passing Math</th>\n",
       "      <th>% Passing Reading</th>\n",
       "      <th>% Overall Passing</th>\n",
       "    </tr>\n",
       "    <tr>\n",
       "      <th>Spending Ranges (Per Student)</th>\n",
       "      <th></th>\n",
       "      <th></th>\n",
       "      <th></th>\n",
       "      <th></th>\n",
       "      <th></th>\n",
       "    </tr>\n",
       "  </thead>\n",
       "  <tbody>\n",
       "    <tr>\n",
       "      <th>&lt;$585</th>\n",
       "      <td>83.455399</td>\n",
       "      <td>83.933814</td>\n",
       "      <td>93.460096</td>\n",
       "      <td>96.610877</td>\n",
       "      <td>90.294121</td>\n",
       "    </tr>\n",
       "    <tr>\n",
       "      <th>$585-630</th>\n",
       "      <td>81.899826</td>\n",
       "      <td>83.155286</td>\n",
       "      <td>87.133538</td>\n",
       "      <td>92.718205</td>\n",
       "      <td>81.522301</td>\n",
       "    </tr>\n",
       "    <tr>\n",
       "      <th>$630-645</th>\n",
       "      <td>78.518855</td>\n",
       "      <td>81.624473</td>\n",
       "      <td>73.484209</td>\n",
       "      <td>84.391793</td>\n",
       "      <td>62.862209</td>\n",
       "    </tr>\n",
       "    <tr>\n",
       "      <th>$645-680</th>\n",
       "      <td>76.997210</td>\n",
       "      <td>81.027843</td>\n",
       "      <td>66.164813</td>\n",
       "      <td>81.133951</td>\n",
       "      <td>53.681272</td>\n",
       "    </tr>\n",
       "  </tbody>\n",
       "</table>\n",
       "</div>"
      ],
      "text/plain": [
       "                               Average Math Score  Average Reading Score  \\\n",
       "Spending Ranges (Per Student)                                              \n",
       "<$585                                   83.455399              83.933814   \n",
       "$585-630                                81.899826              83.155286   \n",
       "$630-645                                78.518855              81.624473   \n",
       "$645-680                                76.997210              81.027843   \n",
       "\n",
       "                               % Passing Math  % Passing Reading  \\\n",
       "Spending Ranges (Per Student)                                      \n",
       "<$585                               93.460096          96.610877   \n",
       "$585-630                            87.133538          92.718205   \n",
       "$630-645                            73.484209          84.391793   \n",
       "$645-680                            66.164813          81.133951   \n",
       "\n",
       "                               % Overall Passing  \n",
       "Spending Ranges (Per Student)                     \n",
       "<$585                                  90.294121  \n",
       "$585-630                               81.522301  \n",
       "$630-645                               62.862209  \n",
       "$645-680                               53.681272  "
      ]
     },
     "execution_count": 142,
     "metadata": {},
     "output_type": "execute_result"
    }
   ],
   "source": [
    "spending_summary #final spending summary"
   ]
  },
  {
   "cell_type": "code",
   "execution_count": 143,
   "id": "8ae18b2a",
   "metadata": {},
   "outputs": [],
   "source": [
    "size_bins = [0, 1000, 2000, 5000]\n",
    "labels1 = [\"Small (<1000)\", \"Medium (1000-2000)\", \"Large (2000-5000)\"]\n",
    "per_school_summary[\"School Size\"] = pd.cut(per_school_summary[\"Total Students\"], size_bins, labels = labels1, include_lowest = True)"
   ]
  },
  {
   "cell_type": "code",
   "execution_count": 144,
   "id": "422e8463",
   "metadata": {},
   "outputs": [
    {
     "name": "stderr",
     "output_type": "stream",
     "text": [
      "/var/folders/d2/rs9l0yts25jd2cswktf_sr9c0000gn/T/ipykernel_85819/1935474502.py:1: FutureWarning: The default of observed=False is deprecated and will be changed to True in a future version of pandas. Pass observed=False to retain current behavior or observed=True to adopt the future default and silence this warning.\n",
      "  size_math_scores = per_school_summary.groupby([\"School Size\"])[\"Average Math Score\"].mean()\n",
      "/var/folders/d2/rs9l0yts25jd2cswktf_sr9c0000gn/T/ipykernel_85819/1935474502.py:2: FutureWarning: The default of observed=False is deprecated and will be changed to True in a future version of pandas. Pass observed=False to retain current behavior or observed=True to adopt the future default and silence this warning.\n",
      "  size_reading_scores = per_school_summary.groupby([\"School Size\"])[\"Average Reading Score\"].mean()\n",
      "/var/folders/d2/rs9l0yts25jd2cswktf_sr9c0000gn/T/ipykernel_85819/1935474502.py:3: FutureWarning: The default of observed=False is deprecated and will be changed to True in a future version of pandas. Pass observed=False to retain current behavior or observed=True to adopt the future default and silence this warning.\n",
      "  size_passing_math = per_school_summary.groupby([\"School Size\"])[\"% Passing Math\"].mean()\n",
      "/var/folders/d2/rs9l0yts25jd2cswktf_sr9c0000gn/T/ipykernel_85819/1935474502.py:4: FutureWarning: The default of observed=False is deprecated and will be changed to True in a future version of pandas. Pass observed=False to retain current behavior or observed=True to adopt the future default and silence this warning.\n",
      "  size_passing_reading = per_school_summary.groupby([\"School Size\"])[\"% Passing Reading\"].mean()\n",
      "/var/folders/d2/rs9l0yts25jd2cswktf_sr9c0000gn/T/ipykernel_85819/1935474502.py:5: FutureWarning: The default of observed=False is deprecated and will be changed to True in a future version of pandas. Pass observed=False to retain current behavior or observed=True to adopt the future default and silence this warning.\n",
      "  size_overall_passing = per_school_summary.groupby([\"School Size\"])[\"% Overall Passing\"].mean()\n"
     ]
    }
   ],
   "source": [
    "size_math_scores = per_school_summary.groupby([\"School Size\"])[\"Average Math Score\"].mean()\n",
    "size_reading_scores = per_school_summary.groupby([\"School Size\"])[\"Average Reading Score\"].mean()\n",
    "size_passing_math = per_school_summary.groupby([\"School Size\"])[\"% Passing Math\"].mean()\n",
    "size_passing_reading = per_school_summary.groupby([\"School Size\"])[\"% Passing Reading\"].mean()\n",
    "size_overall_passing = per_school_summary.groupby([\"School Size\"])[\"% Overall Passing\"].mean()"
   ]
  },
  {
   "cell_type": "code",
   "execution_count": 145,
   "id": "513e4382",
   "metadata": {},
   "outputs": [],
   "source": [
    "size_summary = pd.DataFrame(size_math_scores)"
   ]
  },
  {
   "cell_type": "code",
   "execution_count": 146,
   "id": "e8358e15",
   "metadata": {},
   "outputs": [],
   "source": [
    "size_summary[\"Average Reading Score\"]= size_reading_scores"
   ]
  },
  {
   "cell_type": "code",
   "execution_count": 147,
   "id": "c8609aec",
   "metadata": {},
   "outputs": [],
   "source": [
    "size_summary[\"% Passing Math\"] = size_passing_math\n",
    "size_summary[\"% Passing Reading\"] = size_passing_reading\n",
    "size_summary[\"% Overall Passing\"]= size_overall_passing"
   ]
  },
  {
   "cell_type": "code",
   "execution_count": 148,
   "id": "aa4b1de7",
   "metadata": {},
   "outputs": [
    {
     "data": {
      "text/html": [
       "<div>\n",
       "<style scoped>\n",
       "    .dataframe tbody tr th:only-of-type {\n",
       "        vertical-align: middle;\n",
       "    }\n",
       "\n",
       "    .dataframe tbody tr th {\n",
       "        vertical-align: top;\n",
       "    }\n",
       "\n",
       "    .dataframe thead th {\n",
       "        text-align: right;\n",
       "    }\n",
       "</style>\n",
       "<table border=\"1\" class=\"dataframe\">\n",
       "  <thead>\n",
       "    <tr style=\"text-align: right;\">\n",
       "      <th></th>\n",
       "      <th>Average Math Score</th>\n",
       "      <th>Average Reading Score</th>\n",
       "      <th>% Passing Math</th>\n",
       "      <th>% Passing Reading</th>\n",
       "      <th>% Overall Passing</th>\n",
       "    </tr>\n",
       "    <tr>\n",
       "      <th>School Size</th>\n",
       "      <th></th>\n",
       "      <th></th>\n",
       "      <th></th>\n",
       "      <th></th>\n",
       "      <th></th>\n",
       "    </tr>\n",
       "  </thead>\n",
       "  <tbody>\n",
       "    <tr>\n",
       "      <th>Small (&lt;1000)</th>\n",
       "      <td>83.821598</td>\n",
       "      <td>83.929843</td>\n",
       "      <td>93.550225</td>\n",
       "      <td>96.099437</td>\n",
       "      <td>89.899636</td>\n",
       "    </tr>\n",
       "    <tr>\n",
       "      <th>Medium (1000-2000)</th>\n",
       "      <td>83.374684</td>\n",
       "      <td>83.864438</td>\n",
       "      <td>93.599695</td>\n",
       "      <td>96.790680</td>\n",
       "      <td>90.595158</td>\n",
       "    </tr>\n",
       "    <tr>\n",
       "      <th>Large (2000-5000)</th>\n",
       "      <td>77.746417</td>\n",
       "      <td>81.344493</td>\n",
       "      <td>69.963361</td>\n",
       "      <td>82.766634</td>\n",
       "      <td>58.372910</td>\n",
       "    </tr>\n",
       "  </tbody>\n",
       "</table>\n",
       "</div>"
      ],
      "text/plain": [
       "                    Average Math Score  Average Reading Score  % Passing Math  \\\n",
       "School Size                                                                     \n",
       "Small (<1000)                83.821598              83.929843       93.550225   \n",
       "Medium (1000-2000)           83.374684              83.864438       93.599695   \n",
       "Large (2000-5000)            77.746417              81.344493       69.963361   \n",
       "\n",
       "                    % Passing Reading  % Overall Passing  \n",
       "School Size                                               \n",
       "Small (<1000)               96.099437          89.899636  \n",
       "Medium (1000-2000)          96.790680          90.595158  \n",
       "Large (2000-5000)           82.766634          58.372910  "
      ]
     },
     "execution_count": 148,
     "metadata": {},
     "output_type": "execute_result"
    }
   ],
   "source": [
    "size_summary #final size summary"
   ]
  },
  {
   "cell_type": "code",
   "execution_count": 149,
   "id": "74aa4716",
   "metadata": {},
   "outputs": [],
   "source": [
    "#find scores by Type of school "
   ]
  },
  {
   "cell_type": "code",
   "execution_count": 150,
   "id": "4e177ed4",
   "metadata": {},
   "outputs": [],
   "source": [
    "average_math_score_by_type = per_school_summary.groupby([\"School Type\"])[\"Average Math Score\"].mean()\n",
    "average_reading_score_by_type = per_school_summary.groupby([\"School Type\"])[\"Average Reading Score\"].mean()\n",
    "average_percent_passing_math_by_type = per_school_summary.groupby([\"School Type\"])[\"% Passing Math\"].mean()\n",
    "average_percent_passing_reading_by_type = per_school_summary.groupby([\"School Type\"])[\"% Passing Reading\"].mean()\n",
    "average_percent_overall_passing_by_type = per_school_summary.groupby([\"School Type\"])[\"% Overall Passing\"].mean()"
   ]
  },
  {
   "cell_type": "code",
   "execution_count": 151,
   "id": "f74a7d29",
   "metadata": {},
   "outputs": [],
   "source": [
    "type_summary = pd.DataFrame(average_math_score_by_type)"
   ]
  },
  {
   "cell_type": "code",
   "execution_count": 152,
   "id": "013b3f5a",
   "metadata": {},
   "outputs": [],
   "source": [
    "type_summary[\"Average Reading Score\"] = average_reading_score_by_type\n",
    "type_summary[\"% Passing Math\"] = average_percent_passing_math_by_type\n",
    "type_summary[\"% Passing Reading\"] = average_percent_passing_reading_by_type\n",
    "type_summary[\"% Overall Passing\"] = average_percent_overall_passing_by_type"
   ]
  },
  {
   "cell_type": "code",
   "execution_count": 153,
   "id": "21e8adb0",
   "metadata": {},
   "outputs": [
    {
     "data": {
      "text/html": [
       "<div>\n",
       "<style scoped>\n",
       "    .dataframe tbody tr th:only-of-type {\n",
       "        vertical-align: middle;\n",
       "    }\n",
       "\n",
       "    .dataframe tbody tr th {\n",
       "        vertical-align: top;\n",
       "    }\n",
       "\n",
       "    .dataframe thead th {\n",
       "        text-align: right;\n",
       "    }\n",
       "</style>\n",
       "<table border=\"1\" class=\"dataframe\">\n",
       "  <thead>\n",
       "    <tr style=\"text-align: right;\">\n",
       "      <th></th>\n",
       "      <th>Average Math Score</th>\n",
       "      <th>Average Reading Score</th>\n",
       "      <th>% Passing Math</th>\n",
       "      <th>% Passing Reading</th>\n",
       "      <th>% Overall Passing</th>\n",
       "    </tr>\n",
       "    <tr>\n",
       "      <th>School Type</th>\n",
       "      <th></th>\n",
       "      <th></th>\n",
       "      <th></th>\n",
       "      <th></th>\n",
       "      <th></th>\n",
       "    </tr>\n",
       "  </thead>\n",
       "  <tbody>\n",
       "    <tr>\n",
       "      <th>Charter</th>\n",
       "      <td>83.473852</td>\n",
       "      <td>83.896421</td>\n",
       "      <td>93.620830</td>\n",
       "      <td>96.586489</td>\n",
       "      <td>90.424327</td>\n",
       "    </tr>\n",
       "    <tr>\n",
       "      <th>District</th>\n",
       "      <td>76.956733</td>\n",
       "      <td>80.966636</td>\n",
       "      <td>66.548453</td>\n",
       "      <td>80.799062</td>\n",
       "      <td>53.766246</td>\n",
       "    </tr>\n",
       "  </tbody>\n",
       "</table>\n",
       "</div>"
      ],
      "text/plain": [
       "             Average Math Score  Average Reading Score  % Passing Math  \\\n",
       "School Type                                                              \n",
       "Charter               83.473852              83.896421       93.620830   \n",
       "District              76.956733              80.966636       66.548453   \n",
       "\n",
       "             % Passing Reading  % Overall Passing  \n",
       "School Type                                        \n",
       "Charter              96.586489          90.424327  \n",
       "District             80.799062          53.766246  "
      ]
     },
     "execution_count": 153,
     "metadata": {},
     "output_type": "execute_result"
    }
   ],
   "source": [
    "type_summary"
   ]
  },
  {
   "cell_type": "code",
   "execution_count": 154,
   "id": "ce468d34",
   "metadata": {},
   "outputs": [],
   "source": [
    "import numpy as np"
   ]
  },
  {
   "cell_type": "code",
   "execution_count": 155,
   "id": "94f6db5b",
   "metadata": {},
   "outputs": [],
   "source": [
    "sizebytype = per_school_summary.groupby(\"School Type\")[\"Total Students\"]"
   ]
  },
  {
   "cell_type": "code",
   "execution_count": 156,
   "id": "b1caaecf",
   "metadata": {},
   "outputs": [
    {
     "data": {
      "text/plain": [
       "School Type\n",
       "Charter     1524.250000\n",
       "District    3853.714286\n",
       "Name: Total Students, dtype: float64"
      ]
     },
     "execution_count": 156,
     "metadata": {},
     "output_type": "execute_result"
    }
   ],
   "source": [
    "sizebytype.mean()"
   ]
  },
  {
   "cell_type": "code",
   "execution_count": 157,
   "id": "e9fd5fec",
   "metadata": {},
   "outputs": [
    {
     "data": {
      "text/plain": [
       "Total Students                      int64\n",
       "School Type                        object\n",
       "Total School Budget               float64\n",
       "Budget Per Student                float64\n",
       "Average Math Score                float64\n",
       "Average Reading Score             float64\n",
       "% Passing Math                    float64\n",
       "% Passing Reading                 float64\n",
       "% Overall Passing                 float64\n",
       "% Overall Passing2                float64\n",
       "Spending Ranges (Per Student)    category\n",
       "School Size                      category\n",
       "dtype: object"
      ]
     },
     "execution_count": 157,
     "metadata": {},
     "output_type": "execute_result"
    }
   ],
   "source": [
    "per_school_summary.dtypes"
   ]
  },
  {
   "cell_type": "code",
   "execution_count": 158,
   "id": "60f25c2d",
   "metadata": {},
   "outputs": [
    {
     "data": {
      "text/plain": [
       "School Type\n",
       "Charter     599.500000\n",
       "District    643.571429\n",
       "Name: Budget Per Student, dtype: float64"
      ]
     },
     "execution_count": 158,
     "metadata": {},
     "output_type": "execute_result"
    }
   ],
   "source": [
    "per_school_summary.groupby(\"School Type\")[\"Budget Per Student\"].mean()"
   ]
  },
  {
   "cell_type": "code",
   "execution_count": 159,
   "id": "b631f19b",
   "metadata": {},
   "outputs": [],
   "source": [
    "#final formatting"
   ]
  },
  {
   "cell_type": "code",
   "execution_count": 160,
   "id": "1951c937",
   "metadata": {},
   "outputs": [],
   "source": [
    "per_school_summary[\"Total School Budget\"] = per_school_summary[\"Total School Budget\"].map(\"${:,.2f}\".format) #formatting to make it look right \n",
    "per_school_summary[\"Budget Per Student\"] = per_school_summary[\"Budget Per Student\"].map(\"${:,.2f}\".format)\n",
    "district_summary[\"Total Budget\"] = district_summary[\"Total Budget\"].map(\"${:,.2f}\".format)"
   ]
  },
  {
   "cell_type": "code",
   "execution_count": 161,
   "id": "4a0128f5",
   "metadata": {},
   "outputs": [],
   "source": [
    "#all of the final DataFrames"
   ]
  },
  {
   "cell_type": "code",
   "execution_count": 162,
   "id": "3895f6e5",
   "metadata": {},
   "outputs": [
    {
     "data": {
      "text/html": [
       "<div>\n",
       "<style scoped>\n",
       "    .dataframe tbody tr th:only-of-type {\n",
       "        vertical-align: middle;\n",
       "    }\n",
       "\n",
       "    .dataframe tbody tr th {\n",
       "        vertical-align: top;\n",
       "    }\n",
       "\n",
       "    .dataframe thead th {\n",
       "        text-align: right;\n",
       "    }\n",
       "</style>\n",
       "<table border=\"1\" class=\"dataframe\">\n",
       "  <thead>\n",
       "    <tr style=\"text-align: right;\">\n",
       "      <th></th>\n",
       "      <th>Total Schools</th>\n",
       "      <th>Total Students</th>\n",
       "      <th>Total Budget</th>\n",
       "      <th>Average Math Score</th>\n",
       "      <th>Average Reading Score</th>\n",
       "      <th>% Passing Math</th>\n",
       "      <th>% Passing Reading</th>\n",
       "      <th>% Overall Passing</th>\n",
       "    </tr>\n",
       "  </thead>\n",
       "  <tbody>\n",
       "    <tr>\n",
       "      <th>0</th>\n",
       "      <td>15</td>\n",
       "      <td>39170</td>\n",
       "      <td>$24,649,428.00</td>\n",
       "      <td>78.985371</td>\n",
       "      <td>81.87784</td>\n",
       "      <td>74.98</td>\n",
       "      <td>85.8</td>\n",
       "      <td>65.172326</td>\n",
       "    </tr>\n",
       "  </tbody>\n",
       "</table>\n",
       "</div>"
      ],
      "text/plain": [
       "   Total Schools  Total Students    Total Budget  Average Math Score  \\\n",
       "0             15           39170  $24,649,428.00           78.985371   \n",
       "\n",
       "   Average Reading Score  % Passing Math  % Passing Reading  % Overall Passing  \n",
       "0               81.87784           74.98               85.8          65.172326  "
      ]
     },
     "execution_count": 162,
     "metadata": {},
     "output_type": "execute_result"
    }
   ],
   "source": [
    "district_summary"
   ]
  },
  {
   "cell_type": "code",
   "execution_count": 163,
   "id": "09bbb9f1",
   "metadata": {},
   "outputs": [
    {
     "data": {
      "text/html": [
       "<div>\n",
       "<style scoped>\n",
       "    .dataframe tbody tr th:only-of-type {\n",
       "        vertical-align: middle;\n",
       "    }\n",
       "\n",
       "    .dataframe tbody tr th {\n",
       "        vertical-align: top;\n",
       "    }\n",
       "\n",
       "    .dataframe thead th {\n",
       "        text-align: right;\n",
       "    }\n",
       "</style>\n",
       "<table border=\"1\" class=\"dataframe\">\n",
       "  <thead>\n",
       "    <tr style=\"text-align: right;\">\n",
       "      <th></th>\n",
       "      <th>Total Students</th>\n",
       "      <th>School Type</th>\n",
       "      <th>Total School Budget</th>\n",
       "      <th>Budget Per Student</th>\n",
       "      <th>Average Math Score</th>\n",
       "      <th>Average Reading Score</th>\n",
       "      <th>% Passing Math</th>\n",
       "      <th>% Passing Reading</th>\n",
       "      <th>% Overall Passing</th>\n",
       "      <th>% Overall Passing2</th>\n",
       "      <th>Spending Ranges (Per Student)</th>\n",
       "      <th>School Size</th>\n",
       "    </tr>\n",
       "    <tr>\n",
       "      <th>School Name</th>\n",
       "      <th></th>\n",
       "      <th></th>\n",
       "      <th></th>\n",
       "      <th></th>\n",
       "      <th></th>\n",
       "      <th></th>\n",
       "      <th></th>\n",
       "      <th></th>\n",
       "      <th></th>\n",
       "      <th></th>\n",
       "      <th></th>\n",
       "      <th></th>\n",
       "    </tr>\n",
       "  </thead>\n",
       "  <tbody>\n",
       "    <tr>\n",
       "      <th>Bailey High School</th>\n",
       "      <td>4976</td>\n",
       "      <td>District</td>\n",
       "      <td>$3,124,928.00</td>\n",
       "      <td>$628.00</td>\n",
       "      <td>77.048432</td>\n",
       "      <td>81.033963</td>\n",
       "      <td>66.680064</td>\n",
       "      <td>81.933280</td>\n",
       "      <td>54.633164</td>\n",
       "      <td>54.642283</td>\n",
       "      <td>$585-630</td>\n",
       "      <td>Large (2000-5000)</td>\n",
       "    </tr>\n",
       "    <tr>\n",
       "      <th>Cabrera High School</th>\n",
       "      <td>1858</td>\n",
       "      <td>Charter</td>\n",
       "      <td>$1,081,356.00</td>\n",
       "      <td>$582.00</td>\n",
       "      <td>83.061895</td>\n",
       "      <td>83.975780</td>\n",
       "      <td>94.133477</td>\n",
       "      <td>97.039828</td>\n",
       "      <td>91.346964</td>\n",
       "      <td>91.334769</td>\n",
       "      <td>&lt;$585</td>\n",
       "      <td>Medium (1000-2000)</td>\n",
       "    </tr>\n",
       "    <tr>\n",
       "      <th>Figueroa High School</th>\n",
       "      <td>2949</td>\n",
       "      <td>District</td>\n",
       "      <td>$1,884,411.00</td>\n",
       "      <td>$639.00</td>\n",
       "      <td>76.711767</td>\n",
       "      <td>81.158020</td>\n",
       "      <td>65.988471</td>\n",
       "      <td>80.739234</td>\n",
       "      <td>53.278586</td>\n",
       "      <td>53.204476</td>\n",
       "      <td>$630-645</td>\n",
       "      <td>Large (2000-5000)</td>\n",
       "    </tr>\n",
       "    <tr>\n",
       "      <th>Ford High School</th>\n",
       "      <td>2739</td>\n",
       "      <td>District</td>\n",
       "      <td>$1,763,916.00</td>\n",
       "      <td>$644.00</td>\n",
       "      <td>77.102592</td>\n",
       "      <td>80.746258</td>\n",
       "      <td>68.309602</td>\n",
       "      <td>79.299014</td>\n",
       "      <td>54.168841</td>\n",
       "      <td>54.289887</td>\n",
       "      <td>$630-645</td>\n",
       "      <td>Large (2000-5000)</td>\n",
       "    </tr>\n",
       "    <tr>\n",
       "      <th>Griffin High School</th>\n",
       "      <td>1468</td>\n",
       "      <td>Charter</td>\n",
       "      <td>$917,500.00</td>\n",
       "      <td>$625.00</td>\n",
       "      <td>83.351499</td>\n",
       "      <td>83.816757</td>\n",
       "      <td>93.392371</td>\n",
       "      <td>97.138965</td>\n",
       "      <td>90.720382</td>\n",
       "      <td>90.599455</td>\n",
       "      <td>$585-630</td>\n",
       "      <td>Medium (1000-2000)</td>\n",
       "    </tr>\n",
       "    <tr>\n",
       "      <th>Hernandez High School</th>\n",
       "      <td>4635</td>\n",
       "      <td>District</td>\n",
       "      <td>$3,022,020.00</td>\n",
       "      <td>$652.00</td>\n",
       "      <td>77.289752</td>\n",
       "      <td>80.934412</td>\n",
       "      <td>66.752967</td>\n",
       "      <td>80.862999</td>\n",
       "      <td>53.978451</td>\n",
       "      <td>53.527508</td>\n",
       "      <td>$645-680</td>\n",
       "      <td>Large (2000-5000)</td>\n",
       "    </tr>\n",
       "    <tr>\n",
       "      <th>Holden High School</th>\n",
       "      <td>427</td>\n",
       "      <td>Charter</td>\n",
       "      <td>$248,087.00</td>\n",
       "      <td>$581.00</td>\n",
       "      <td>83.803279</td>\n",
       "      <td>83.814988</td>\n",
       "      <td>92.505855</td>\n",
       "      <td>96.252927</td>\n",
       "      <td>89.039593</td>\n",
       "      <td>89.227166</td>\n",
       "      <td>&lt;$585</td>\n",
       "      <td>Small (&lt;1000)</td>\n",
       "    </tr>\n",
       "    <tr>\n",
       "      <th>Huang High School</th>\n",
       "      <td>2917</td>\n",
       "      <td>District</td>\n",
       "      <td>$1,910,635.00</td>\n",
       "      <td>$655.00</td>\n",
       "      <td>76.629414</td>\n",
       "      <td>81.182722</td>\n",
       "      <td>65.683922</td>\n",
       "      <td>81.316421</td>\n",
       "      <td>53.411814</td>\n",
       "      <td>53.513884</td>\n",
       "      <td>$645-680</td>\n",
       "      <td>Large (2000-5000)</td>\n",
       "    </tr>\n",
       "    <tr>\n",
       "      <th>Johnson High School</th>\n",
       "      <td>4761</td>\n",
       "      <td>District</td>\n",
       "      <td>$3,094,650.00</td>\n",
       "      <td>$650.00</td>\n",
       "      <td>77.072464</td>\n",
       "      <td>80.966394</td>\n",
       "      <td>66.057551</td>\n",
       "      <td>81.222432</td>\n",
       "      <td>53.653550</td>\n",
       "      <td>53.539172</td>\n",
       "      <td>$645-680</td>\n",
       "      <td>Large (2000-5000)</td>\n",
       "    </tr>\n",
       "    <tr>\n",
       "      <th>Pena High School</th>\n",
       "      <td>962</td>\n",
       "      <td>Charter</td>\n",
       "      <td>$585,858.00</td>\n",
       "      <td>$609.00</td>\n",
       "      <td>83.839917</td>\n",
       "      <td>84.044699</td>\n",
       "      <td>94.594595</td>\n",
       "      <td>95.945946</td>\n",
       "      <td>90.759679</td>\n",
       "      <td>90.540541</td>\n",
       "      <td>$585-630</td>\n",
       "      <td>Small (&lt;1000)</td>\n",
       "    </tr>\n",
       "    <tr>\n",
       "      <th>Rodriguez High School</th>\n",
       "      <td>3999</td>\n",
       "      <td>District</td>\n",
       "      <td>$2,547,363.00</td>\n",
       "      <td>$637.00</td>\n",
       "      <td>76.842711</td>\n",
       "      <td>80.744686</td>\n",
       "      <td>66.366592</td>\n",
       "      <td>80.220055</td>\n",
       "      <td>53.239316</td>\n",
       "      <td>52.988247</td>\n",
       "      <td>$630-645</td>\n",
       "      <td>Large (2000-5000)</td>\n",
       "    </tr>\n",
       "    <tr>\n",
       "      <th>Shelton High School</th>\n",
       "      <td>1761</td>\n",
       "      <td>Charter</td>\n",
       "      <td>$1,056,600.00</td>\n",
       "      <td>$600.00</td>\n",
       "      <td>83.359455</td>\n",
       "      <td>83.725724</td>\n",
       "      <td>93.867121</td>\n",
       "      <td>95.854628</td>\n",
       "      <td>89.975980</td>\n",
       "      <td>89.892107</td>\n",
       "      <td>$585-630</td>\n",
       "      <td>Medium (1000-2000)</td>\n",
       "    </tr>\n",
       "    <tr>\n",
       "      <th>Thomas High School</th>\n",
       "      <td>1635</td>\n",
       "      <td>Charter</td>\n",
       "      <td>$1,043,130.00</td>\n",
       "      <td>$638.00</td>\n",
       "      <td>83.418349</td>\n",
       "      <td>83.848930</td>\n",
       "      <td>93.272171</td>\n",
       "      <td>97.308869</td>\n",
       "      <td>90.762094</td>\n",
       "      <td>90.948012</td>\n",
       "      <td>$630-645</td>\n",
       "      <td>Medium (1000-2000)</td>\n",
       "    </tr>\n",
       "    <tr>\n",
       "      <th>Wilson High School</th>\n",
       "      <td>2283</td>\n",
       "      <td>Charter</td>\n",
       "      <td>$1,319,574.00</td>\n",
       "      <td>$578.00</td>\n",
       "      <td>83.274201</td>\n",
       "      <td>83.989488</td>\n",
       "      <td>93.867718</td>\n",
       "      <td>96.539641</td>\n",
       "      <td>90.619558</td>\n",
       "      <td>90.582567</td>\n",
       "      <td>&lt;$585</td>\n",
       "      <td>Large (2000-5000)</td>\n",
       "    </tr>\n",
       "    <tr>\n",
       "      <th>Wright High School</th>\n",
       "      <td>1800</td>\n",
       "      <td>Charter</td>\n",
       "      <td>$1,049,400.00</td>\n",
       "      <td>$583.00</td>\n",
       "      <td>83.682222</td>\n",
       "      <td>83.955000</td>\n",
       "      <td>93.333333</td>\n",
       "      <td>96.611111</td>\n",
       "      <td>90.170370</td>\n",
       "      <td>90.333333</td>\n",
       "      <td>&lt;$585</td>\n",
       "      <td>Medium (1000-2000)</td>\n",
       "    </tr>\n",
       "  </tbody>\n",
       "</table>\n",
       "</div>"
      ],
      "text/plain": [
       "                       Total Students School Type Total School Budget  \\\n",
       "School Name                                                             \n",
       "Bailey High School               4976    District       $3,124,928.00   \n",
       "Cabrera High School              1858     Charter       $1,081,356.00   \n",
       "Figueroa High School             2949    District       $1,884,411.00   \n",
       "Ford High School                 2739    District       $1,763,916.00   \n",
       "Griffin High School              1468     Charter         $917,500.00   \n",
       "Hernandez High School            4635    District       $3,022,020.00   \n",
       "Holden High School                427     Charter         $248,087.00   \n",
       "Huang High School                2917    District       $1,910,635.00   \n",
       "Johnson High School              4761    District       $3,094,650.00   \n",
       "Pena High School                  962     Charter         $585,858.00   \n",
       "Rodriguez High School            3999    District       $2,547,363.00   \n",
       "Shelton High School              1761     Charter       $1,056,600.00   \n",
       "Thomas High School               1635     Charter       $1,043,130.00   \n",
       "Wilson High School               2283     Charter       $1,319,574.00   \n",
       "Wright High School               1800     Charter       $1,049,400.00   \n",
       "\n",
       "                      Budget Per Student  Average Math Score  \\\n",
       "School Name                                                    \n",
       "Bailey High School               $628.00           77.048432   \n",
       "Cabrera High School              $582.00           83.061895   \n",
       "Figueroa High School             $639.00           76.711767   \n",
       "Ford High School                 $644.00           77.102592   \n",
       "Griffin High School              $625.00           83.351499   \n",
       "Hernandez High School            $652.00           77.289752   \n",
       "Holden High School               $581.00           83.803279   \n",
       "Huang High School                $655.00           76.629414   \n",
       "Johnson High School              $650.00           77.072464   \n",
       "Pena High School                 $609.00           83.839917   \n",
       "Rodriguez High School            $637.00           76.842711   \n",
       "Shelton High School              $600.00           83.359455   \n",
       "Thomas High School               $638.00           83.418349   \n",
       "Wilson High School               $578.00           83.274201   \n",
       "Wright High School               $583.00           83.682222   \n",
       "\n",
       "                       Average Reading Score  % Passing Math  \\\n",
       "School Name                                                    \n",
       "Bailey High School                 81.033963       66.680064   \n",
       "Cabrera High School                83.975780       94.133477   \n",
       "Figueroa High School               81.158020       65.988471   \n",
       "Ford High School                   80.746258       68.309602   \n",
       "Griffin High School                83.816757       93.392371   \n",
       "Hernandez High School              80.934412       66.752967   \n",
       "Holden High School                 83.814988       92.505855   \n",
       "Huang High School                  81.182722       65.683922   \n",
       "Johnson High School                80.966394       66.057551   \n",
       "Pena High School                   84.044699       94.594595   \n",
       "Rodriguez High School              80.744686       66.366592   \n",
       "Shelton High School                83.725724       93.867121   \n",
       "Thomas High School                 83.848930       93.272171   \n",
       "Wilson High School                 83.989488       93.867718   \n",
       "Wright High School                 83.955000       93.333333   \n",
       "\n",
       "                       % Passing Reading  % Overall Passing  \\\n",
       "School Name                                                   \n",
       "Bailey High School             81.933280          54.633164   \n",
       "Cabrera High School            97.039828          91.346964   \n",
       "Figueroa High School           80.739234          53.278586   \n",
       "Ford High School               79.299014          54.168841   \n",
       "Griffin High School            97.138965          90.720382   \n",
       "Hernandez High School          80.862999          53.978451   \n",
       "Holden High School             96.252927          89.039593   \n",
       "Huang High School              81.316421          53.411814   \n",
       "Johnson High School            81.222432          53.653550   \n",
       "Pena High School               95.945946          90.759679   \n",
       "Rodriguez High School          80.220055          53.239316   \n",
       "Shelton High School            95.854628          89.975980   \n",
       "Thomas High School             97.308869          90.762094   \n",
       "Wilson High School             96.539641          90.619558   \n",
       "Wright High School             96.611111          90.170370   \n",
       "\n",
       "                       % Overall Passing2 Spending Ranges (Per Student)  \\\n",
       "School Name                                                               \n",
       "Bailey High School              54.642283                      $585-630   \n",
       "Cabrera High School             91.334769                         <$585   \n",
       "Figueroa High School            53.204476                      $630-645   \n",
       "Ford High School                54.289887                      $630-645   \n",
       "Griffin High School             90.599455                      $585-630   \n",
       "Hernandez High School           53.527508                      $645-680   \n",
       "Holden High School              89.227166                         <$585   \n",
       "Huang High School               53.513884                      $645-680   \n",
       "Johnson High School             53.539172                      $645-680   \n",
       "Pena High School                90.540541                      $585-630   \n",
       "Rodriguez High School           52.988247                      $630-645   \n",
       "Shelton High School             89.892107                      $585-630   \n",
       "Thomas High School              90.948012                      $630-645   \n",
       "Wilson High School              90.582567                         <$585   \n",
       "Wright High School              90.333333                         <$585   \n",
       "\n",
       "                              School Size  \n",
       "School Name                                \n",
       "Bailey High School      Large (2000-5000)  \n",
       "Cabrera High School    Medium (1000-2000)  \n",
       "Figueroa High School    Large (2000-5000)  \n",
       "Ford High School        Large (2000-5000)  \n",
       "Griffin High School    Medium (1000-2000)  \n",
       "Hernandez High School   Large (2000-5000)  \n",
       "Holden High School          Small (<1000)  \n",
       "Huang High School       Large (2000-5000)  \n",
       "Johnson High School     Large (2000-5000)  \n",
       "Pena High School            Small (<1000)  \n",
       "Rodriguez High School   Large (2000-5000)  \n",
       "Shelton High School    Medium (1000-2000)  \n",
       "Thomas High School     Medium (1000-2000)  \n",
       "Wilson High School      Large (2000-5000)  \n",
       "Wright High School     Medium (1000-2000)  "
      ]
     },
     "execution_count": 163,
     "metadata": {},
     "output_type": "execute_result"
    }
   ],
   "source": [
    "per_school_summary"
   ]
  },
  {
   "cell_type": "code",
   "execution_count": 164,
   "id": "3eeb1ecc",
   "metadata": {},
   "outputs": [
    {
     "data": {
      "text/html": [
       "<div>\n",
       "<style scoped>\n",
       "    .dataframe tbody tr th:only-of-type {\n",
       "        vertical-align: middle;\n",
       "    }\n",
       "\n",
       "    .dataframe tbody tr th {\n",
       "        vertical-align: top;\n",
       "    }\n",
       "\n",
       "    .dataframe thead th {\n",
       "        text-align: right;\n",
       "    }\n",
       "</style>\n",
       "<table border=\"1\" class=\"dataframe\">\n",
       "  <thead>\n",
       "    <tr style=\"text-align: right;\">\n",
       "      <th></th>\n",
       "      <th>Total Students</th>\n",
       "      <th>School Type</th>\n",
       "      <th>Total School Budget</th>\n",
       "      <th>Budget Per Student</th>\n",
       "      <th>Average Math Score</th>\n",
       "      <th>Average Reading Score</th>\n",
       "      <th>% Passing Math</th>\n",
       "      <th>% Passing Reading</th>\n",
       "      <th>% Overall Passing</th>\n",
       "      <th>% Overall Passing2</th>\n",
       "    </tr>\n",
       "    <tr>\n",
       "      <th>School Name</th>\n",
       "      <th></th>\n",
       "      <th></th>\n",
       "      <th></th>\n",
       "      <th></th>\n",
       "      <th></th>\n",
       "      <th></th>\n",
       "      <th></th>\n",
       "      <th></th>\n",
       "      <th></th>\n",
       "      <th></th>\n",
       "    </tr>\n",
       "  </thead>\n",
       "  <tbody>\n",
       "    <tr>\n",
       "      <th>Cabrera High School</th>\n",
       "      <td>1858</td>\n",
       "      <td>Charter</td>\n",
       "      <td>1081356.0</td>\n",
       "      <td>582.0</td>\n",
       "      <td>83.061895</td>\n",
       "      <td>83.975780</td>\n",
       "      <td>94.133477</td>\n",
       "      <td>97.039828</td>\n",
       "      <td>91.346964</td>\n",
       "      <td>91.334769</td>\n",
       "    </tr>\n",
       "    <tr>\n",
       "      <th>Thomas High School</th>\n",
       "      <td>1635</td>\n",
       "      <td>Charter</td>\n",
       "      <td>1043130.0</td>\n",
       "      <td>638.0</td>\n",
       "      <td>83.418349</td>\n",
       "      <td>83.848930</td>\n",
       "      <td>93.272171</td>\n",
       "      <td>97.308869</td>\n",
       "      <td>90.762094</td>\n",
       "      <td>90.948012</td>\n",
       "    </tr>\n",
       "    <tr>\n",
       "      <th>Pena High School</th>\n",
       "      <td>962</td>\n",
       "      <td>Charter</td>\n",
       "      <td>585858.0</td>\n",
       "      <td>609.0</td>\n",
       "      <td>83.839917</td>\n",
       "      <td>84.044699</td>\n",
       "      <td>94.594595</td>\n",
       "      <td>95.945946</td>\n",
       "      <td>90.759679</td>\n",
       "      <td>90.540541</td>\n",
       "    </tr>\n",
       "    <tr>\n",
       "      <th>Griffin High School</th>\n",
       "      <td>1468</td>\n",
       "      <td>Charter</td>\n",
       "      <td>917500.0</td>\n",
       "      <td>625.0</td>\n",
       "      <td>83.351499</td>\n",
       "      <td>83.816757</td>\n",
       "      <td>93.392371</td>\n",
       "      <td>97.138965</td>\n",
       "      <td>90.720382</td>\n",
       "      <td>90.599455</td>\n",
       "    </tr>\n",
       "    <tr>\n",
       "      <th>Wilson High School</th>\n",
       "      <td>2283</td>\n",
       "      <td>Charter</td>\n",
       "      <td>1319574.0</td>\n",
       "      <td>578.0</td>\n",
       "      <td>83.274201</td>\n",
       "      <td>83.989488</td>\n",
       "      <td>93.867718</td>\n",
       "      <td>96.539641</td>\n",
       "      <td>90.619558</td>\n",
       "      <td>90.582567</td>\n",
       "    </tr>\n",
       "  </tbody>\n",
       "</table>\n",
       "</div>"
      ],
      "text/plain": [
       "                     Total Students School Type  Total School Budget  \\\n",
       "School Name                                                            \n",
       "Cabrera High School            1858     Charter            1081356.0   \n",
       "Thomas High School             1635     Charter            1043130.0   \n",
       "Pena High School                962     Charter             585858.0   \n",
       "Griffin High School            1468     Charter             917500.0   \n",
       "Wilson High School             2283     Charter            1319574.0   \n",
       "\n",
       "                     Budget Per Student  Average Math Score  \\\n",
       "School Name                                                   \n",
       "Cabrera High School               582.0           83.061895   \n",
       "Thomas High School                638.0           83.418349   \n",
       "Pena High School                  609.0           83.839917   \n",
       "Griffin High School               625.0           83.351499   \n",
       "Wilson High School                578.0           83.274201   \n",
       "\n",
       "                     Average Reading Score  % Passing Math  % Passing Reading  \\\n",
       "School Name                                                                     \n",
       "Cabrera High School              83.975780       94.133477          97.039828   \n",
       "Thomas High School               83.848930       93.272171          97.308869   \n",
       "Pena High School                 84.044699       94.594595          95.945946   \n",
       "Griffin High School              83.816757       93.392371          97.138965   \n",
       "Wilson High School               83.989488       93.867718          96.539641   \n",
       "\n",
       "                     % Overall Passing  % Overall Passing2  \n",
       "School Name                                                 \n",
       "Cabrera High School          91.346964           91.334769  \n",
       "Thomas High School           90.762094           90.948012  \n",
       "Pena High School             90.759679           90.540541  \n",
       "Griffin High School          90.720382           90.599455  \n",
       "Wilson High School           90.619558           90.582567  "
      ]
     },
     "execution_count": 164,
     "metadata": {},
     "output_type": "execute_result"
    }
   ],
   "source": [
    "top_schools"
   ]
  },
  {
   "cell_type": "code",
   "execution_count": 165,
   "id": "47150604",
   "metadata": {},
   "outputs": [
    {
     "data": {
      "text/html": [
       "<div>\n",
       "<style scoped>\n",
       "    .dataframe tbody tr th:only-of-type {\n",
       "        vertical-align: middle;\n",
       "    }\n",
       "\n",
       "    .dataframe tbody tr th {\n",
       "        vertical-align: top;\n",
       "    }\n",
       "\n",
       "    .dataframe thead th {\n",
       "        text-align: right;\n",
       "    }\n",
       "</style>\n",
       "<table border=\"1\" class=\"dataframe\">\n",
       "  <thead>\n",
       "    <tr style=\"text-align: right;\">\n",
       "      <th></th>\n",
       "      <th>Total Students</th>\n",
       "      <th>School Type</th>\n",
       "      <th>Total School Budget</th>\n",
       "      <th>Budget Per Student</th>\n",
       "      <th>Average Math Score</th>\n",
       "      <th>Average Reading Score</th>\n",
       "      <th>% Passing Math</th>\n",
       "      <th>% Passing Reading</th>\n",
       "      <th>% Overall Passing</th>\n",
       "      <th>% Overall Passing2</th>\n",
       "    </tr>\n",
       "    <tr>\n",
       "      <th>School Name</th>\n",
       "      <th></th>\n",
       "      <th></th>\n",
       "      <th></th>\n",
       "      <th></th>\n",
       "      <th></th>\n",
       "      <th></th>\n",
       "      <th></th>\n",
       "      <th></th>\n",
       "      <th></th>\n",
       "      <th></th>\n",
       "    </tr>\n",
       "  </thead>\n",
       "  <tbody>\n",
       "    <tr>\n",
       "      <th>Cabrera High School</th>\n",
       "      <td>1858</td>\n",
       "      <td>Charter</td>\n",
       "      <td>1081356.0</td>\n",
       "      <td>582.0</td>\n",
       "      <td>83.061895</td>\n",
       "      <td>83.975780</td>\n",
       "      <td>94.133477</td>\n",
       "      <td>97.039828</td>\n",
       "      <td>91.346964</td>\n",
       "      <td>91.334769</td>\n",
       "    </tr>\n",
       "    <tr>\n",
       "      <th>Thomas High School</th>\n",
       "      <td>1635</td>\n",
       "      <td>Charter</td>\n",
       "      <td>1043130.0</td>\n",
       "      <td>638.0</td>\n",
       "      <td>83.418349</td>\n",
       "      <td>83.848930</td>\n",
       "      <td>93.272171</td>\n",
       "      <td>97.308869</td>\n",
       "      <td>90.762094</td>\n",
       "      <td>90.948012</td>\n",
       "    </tr>\n",
       "    <tr>\n",
       "      <th>Griffin High School</th>\n",
       "      <td>1468</td>\n",
       "      <td>Charter</td>\n",
       "      <td>917500.0</td>\n",
       "      <td>625.0</td>\n",
       "      <td>83.351499</td>\n",
       "      <td>83.816757</td>\n",
       "      <td>93.392371</td>\n",
       "      <td>97.138965</td>\n",
       "      <td>90.720382</td>\n",
       "      <td>90.599455</td>\n",
       "    </tr>\n",
       "    <tr>\n",
       "      <th>Wilson High School</th>\n",
       "      <td>2283</td>\n",
       "      <td>Charter</td>\n",
       "      <td>1319574.0</td>\n",
       "      <td>578.0</td>\n",
       "      <td>83.274201</td>\n",
       "      <td>83.989488</td>\n",
       "      <td>93.867718</td>\n",
       "      <td>96.539641</td>\n",
       "      <td>90.619558</td>\n",
       "      <td>90.582567</td>\n",
       "    </tr>\n",
       "    <tr>\n",
       "      <th>Pena High School</th>\n",
       "      <td>962</td>\n",
       "      <td>Charter</td>\n",
       "      <td>585858.0</td>\n",
       "      <td>609.0</td>\n",
       "      <td>83.839917</td>\n",
       "      <td>84.044699</td>\n",
       "      <td>94.594595</td>\n",
       "      <td>95.945946</td>\n",
       "      <td>90.759679</td>\n",
       "      <td>90.540541</td>\n",
       "    </tr>\n",
       "  </tbody>\n",
       "</table>\n",
       "</div>"
      ],
      "text/plain": [
       "                     Total Students School Type  Total School Budget  \\\n",
       "School Name                                                            \n",
       "Cabrera High School            1858     Charter            1081356.0   \n",
       "Thomas High School             1635     Charter            1043130.0   \n",
       "Griffin High School            1468     Charter             917500.0   \n",
       "Wilson High School             2283     Charter            1319574.0   \n",
       "Pena High School                962     Charter             585858.0   \n",
       "\n",
       "                     Budget Per Student  Average Math Score  \\\n",
       "School Name                                                   \n",
       "Cabrera High School               582.0           83.061895   \n",
       "Thomas High School                638.0           83.418349   \n",
       "Griffin High School               625.0           83.351499   \n",
       "Wilson High School                578.0           83.274201   \n",
       "Pena High School                  609.0           83.839917   \n",
       "\n",
       "                     Average Reading Score  % Passing Math  % Passing Reading  \\\n",
       "School Name                                                                     \n",
       "Cabrera High School              83.975780       94.133477          97.039828   \n",
       "Thomas High School               83.848930       93.272171          97.308869   \n",
       "Griffin High School              83.816757       93.392371          97.138965   \n",
       "Wilson High School               83.989488       93.867718          96.539641   \n",
       "Pena High School                 84.044699       94.594595          95.945946   \n",
       "\n",
       "                     % Overall Passing  % Overall Passing2  \n",
       "School Name                                                 \n",
       "Cabrera High School          91.346964           91.334769  \n",
       "Thomas High School           90.762094           90.948012  \n",
       "Griffin High School          90.720382           90.599455  \n",
       "Wilson High School           90.619558           90.582567  \n",
       "Pena High School             90.759679           90.540541  "
      ]
     },
     "execution_count": 165,
     "metadata": {},
     "output_type": "execute_result"
    }
   ],
   "source": [
    "top_schools2"
   ]
  },
  {
   "cell_type": "code",
   "execution_count": 166,
   "id": "e381821b",
   "metadata": {},
   "outputs": [
    {
     "data": {
      "text/html": [
       "<div>\n",
       "<style scoped>\n",
       "    .dataframe tbody tr th:only-of-type {\n",
       "        vertical-align: middle;\n",
       "    }\n",
       "\n",
       "    .dataframe tbody tr th {\n",
       "        vertical-align: top;\n",
       "    }\n",
       "\n",
       "    .dataframe thead th {\n",
       "        text-align: right;\n",
       "    }\n",
       "</style>\n",
       "<table border=\"1\" class=\"dataframe\">\n",
       "  <thead>\n",
       "    <tr style=\"text-align: right;\">\n",
       "      <th></th>\n",
       "      <th>Total Students</th>\n",
       "      <th>School Type</th>\n",
       "      <th>Total School Budget</th>\n",
       "      <th>Budget Per Student</th>\n",
       "      <th>Average Math Score</th>\n",
       "      <th>Average Reading Score</th>\n",
       "      <th>% Passing Math</th>\n",
       "      <th>% Passing Reading</th>\n",
       "      <th>% Overall Passing</th>\n",
       "      <th>% Overall Passing2</th>\n",
       "    </tr>\n",
       "    <tr>\n",
       "      <th>School Name</th>\n",
       "      <th></th>\n",
       "      <th></th>\n",
       "      <th></th>\n",
       "      <th></th>\n",
       "      <th></th>\n",
       "      <th></th>\n",
       "      <th></th>\n",
       "      <th></th>\n",
       "      <th></th>\n",
       "      <th></th>\n",
       "    </tr>\n",
       "  </thead>\n",
       "  <tbody>\n",
       "    <tr>\n",
       "      <th>Rodriguez High School</th>\n",
       "      <td>3999</td>\n",
       "      <td>District</td>\n",
       "      <td>2547363.0</td>\n",
       "      <td>637.0</td>\n",
       "      <td>76.842711</td>\n",
       "      <td>80.744686</td>\n",
       "      <td>66.366592</td>\n",
       "      <td>80.220055</td>\n",
       "      <td>53.239316</td>\n",
       "      <td>52.988247</td>\n",
       "    </tr>\n",
       "    <tr>\n",
       "      <th>Figueroa High School</th>\n",
       "      <td>2949</td>\n",
       "      <td>District</td>\n",
       "      <td>1884411.0</td>\n",
       "      <td>639.0</td>\n",
       "      <td>76.711767</td>\n",
       "      <td>81.158020</td>\n",
       "      <td>65.988471</td>\n",
       "      <td>80.739234</td>\n",
       "      <td>53.278586</td>\n",
       "      <td>53.204476</td>\n",
       "    </tr>\n",
       "    <tr>\n",
       "      <th>Huang High School</th>\n",
       "      <td>2917</td>\n",
       "      <td>District</td>\n",
       "      <td>1910635.0</td>\n",
       "      <td>655.0</td>\n",
       "      <td>76.629414</td>\n",
       "      <td>81.182722</td>\n",
       "      <td>65.683922</td>\n",
       "      <td>81.316421</td>\n",
       "      <td>53.411814</td>\n",
       "      <td>53.513884</td>\n",
       "    </tr>\n",
       "    <tr>\n",
       "      <th>Johnson High School</th>\n",
       "      <td>4761</td>\n",
       "      <td>District</td>\n",
       "      <td>3094650.0</td>\n",
       "      <td>650.0</td>\n",
       "      <td>77.072464</td>\n",
       "      <td>80.966394</td>\n",
       "      <td>66.057551</td>\n",
       "      <td>81.222432</td>\n",
       "      <td>53.653550</td>\n",
       "      <td>53.539172</td>\n",
       "    </tr>\n",
       "    <tr>\n",
       "      <th>Hernandez High School</th>\n",
       "      <td>4635</td>\n",
       "      <td>District</td>\n",
       "      <td>3022020.0</td>\n",
       "      <td>652.0</td>\n",
       "      <td>77.289752</td>\n",
       "      <td>80.934412</td>\n",
       "      <td>66.752967</td>\n",
       "      <td>80.862999</td>\n",
       "      <td>53.978451</td>\n",
       "      <td>53.527508</td>\n",
       "    </tr>\n",
       "  </tbody>\n",
       "</table>\n",
       "</div>"
      ],
      "text/plain": [
       "                       Total Students School Type  Total School Budget  \\\n",
       "School Name                                                              \n",
       "Rodriguez High School            3999    District            2547363.0   \n",
       "Figueroa High School             2949    District            1884411.0   \n",
       "Huang High School                2917    District            1910635.0   \n",
       "Johnson High School              4761    District            3094650.0   \n",
       "Hernandez High School            4635    District            3022020.0   \n",
       "\n",
       "                       Budget Per Student  Average Math Score  \\\n",
       "School Name                                                     \n",
       "Rodriguez High School               637.0           76.842711   \n",
       "Figueroa High School                639.0           76.711767   \n",
       "Huang High School                   655.0           76.629414   \n",
       "Johnson High School                 650.0           77.072464   \n",
       "Hernandez High School               652.0           77.289752   \n",
       "\n",
       "                       Average Reading Score  % Passing Math  \\\n",
       "School Name                                                    \n",
       "Rodriguez High School              80.744686       66.366592   \n",
       "Figueroa High School               81.158020       65.988471   \n",
       "Huang High School                  81.182722       65.683922   \n",
       "Johnson High School                80.966394       66.057551   \n",
       "Hernandez High School              80.934412       66.752967   \n",
       "\n",
       "                       % Passing Reading  % Overall Passing  \\\n",
       "School Name                                                   \n",
       "Rodriguez High School          80.220055          53.239316   \n",
       "Figueroa High School           80.739234          53.278586   \n",
       "Huang High School              81.316421          53.411814   \n",
       "Johnson High School            81.222432          53.653550   \n",
       "Hernandez High School          80.862999          53.978451   \n",
       "\n",
       "                       % Overall Passing2  \n",
       "School Name                                \n",
       "Rodriguez High School           52.988247  \n",
       "Figueroa High School            53.204476  \n",
       "Huang High School               53.513884  \n",
       "Johnson High School             53.539172  \n",
       "Hernandez High School           53.527508  "
      ]
     },
     "execution_count": 166,
     "metadata": {},
     "output_type": "execute_result"
    }
   ],
   "source": [
    "bottom_schools"
   ]
  },
  {
   "cell_type": "code",
   "execution_count": 167,
   "id": "c9f8431d",
   "metadata": {},
   "outputs": [
    {
     "data": {
      "text/html": [
       "<div>\n",
       "<style scoped>\n",
       "    .dataframe tbody tr th:only-of-type {\n",
       "        vertical-align: middle;\n",
       "    }\n",
       "\n",
       "    .dataframe tbody tr th {\n",
       "        vertical-align: top;\n",
       "    }\n",
       "\n",
       "    .dataframe thead th {\n",
       "        text-align: right;\n",
       "    }\n",
       "</style>\n",
       "<table border=\"1\" class=\"dataframe\">\n",
       "  <thead>\n",
       "    <tr style=\"text-align: right;\">\n",
       "      <th></th>\n",
       "      <th>Total Students</th>\n",
       "      <th>School Type</th>\n",
       "      <th>Total School Budget</th>\n",
       "      <th>Budget Per Student</th>\n",
       "      <th>Average Math Score</th>\n",
       "      <th>Average Reading Score</th>\n",
       "      <th>% Passing Math</th>\n",
       "      <th>% Passing Reading</th>\n",
       "      <th>% Overall Passing</th>\n",
       "      <th>% Overall Passing2</th>\n",
       "    </tr>\n",
       "    <tr>\n",
       "      <th>School Name</th>\n",
       "      <th></th>\n",
       "      <th></th>\n",
       "      <th></th>\n",
       "      <th></th>\n",
       "      <th></th>\n",
       "      <th></th>\n",
       "      <th></th>\n",
       "      <th></th>\n",
       "      <th></th>\n",
       "      <th></th>\n",
       "    </tr>\n",
       "  </thead>\n",
       "  <tbody>\n",
       "    <tr>\n",
       "      <th>Rodriguez High School</th>\n",
       "      <td>3999</td>\n",
       "      <td>District</td>\n",
       "      <td>2547363.0</td>\n",
       "      <td>637.0</td>\n",
       "      <td>76.842711</td>\n",
       "      <td>80.744686</td>\n",
       "      <td>66.366592</td>\n",
       "      <td>80.220055</td>\n",
       "      <td>53.239316</td>\n",
       "      <td>52.988247</td>\n",
       "    </tr>\n",
       "    <tr>\n",
       "      <th>Figueroa High School</th>\n",
       "      <td>2949</td>\n",
       "      <td>District</td>\n",
       "      <td>1884411.0</td>\n",
       "      <td>639.0</td>\n",
       "      <td>76.711767</td>\n",
       "      <td>81.158020</td>\n",
       "      <td>65.988471</td>\n",
       "      <td>80.739234</td>\n",
       "      <td>53.278586</td>\n",
       "      <td>53.204476</td>\n",
       "    </tr>\n",
       "    <tr>\n",
       "      <th>Huang High School</th>\n",
       "      <td>2917</td>\n",
       "      <td>District</td>\n",
       "      <td>1910635.0</td>\n",
       "      <td>655.0</td>\n",
       "      <td>76.629414</td>\n",
       "      <td>81.182722</td>\n",
       "      <td>65.683922</td>\n",
       "      <td>81.316421</td>\n",
       "      <td>53.411814</td>\n",
       "      <td>53.513884</td>\n",
       "    </tr>\n",
       "    <tr>\n",
       "      <th>Hernandez High School</th>\n",
       "      <td>4635</td>\n",
       "      <td>District</td>\n",
       "      <td>3022020.0</td>\n",
       "      <td>652.0</td>\n",
       "      <td>77.289752</td>\n",
       "      <td>80.934412</td>\n",
       "      <td>66.752967</td>\n",
       "      <td>80.862999</td>\n",
       "      <td>53.978451</td>\n",
       "      <td>53.527508</td>\n",
       "    </tr>\n",
       "    <tr>\n",
       "      <th>Johnson High School</th>\n",
       "      <td>4761</td>\n",
       "      <td>District</td>\n",
       "      <td>3094650.0</td>\n",
       "      <td>650.0</td>\n",
       "      <td>77.072464</td>\n",
       "      <td>80.966394</td>\n",
       "      <td>66.057551</td>\n",
       "      <td>81.222432</td>\n",
       "      <td>53.653550</td>\n",
       "      <td>53.539172</td>\n",
       "    </tr>\n",
       "  </tbody>\n",
       "</table>\n",
       "</div>"
      ],
      "text/plain": [
       "                       Total Students School Type  Total School Budget  \\\n",
       "School Name                                                              \n",
       "Rodriguez High School            3999    District            2547363.0   \n",
       "Figueroa High School             2949    District            1884411.0   \n",
       "Huang High School                2917    District            1910635.0   \n",
       "Hernandez High School            4635    District            3022020.0   \n",
       "Johnson High School              4761    District            3094650.0   \n",
       "\n",
       "                       Budget Per Student  Average Math Score  \\\n",
       "School Name                                                     \n",
       "Rodriguez High School               637.0           76.842711   \n",
       "Figueroa High School                639.0           76.711767   \n",
       "Huang High School                   655.0           76.629414   \n",
       "Hernandez High School               652.0           77.289752   \n",
       "Johnson High School                 650.0           77.072464   \n",
       "\n",
       "                       Average Reading Score  % Passing Math  \\\n",
       "School Name                                                    \n",
       "Rodriguez High School              80.744686       66.366592   \n",
       "Figueroa High School               81.158020       65.988471   \n",
       "Huang High School                  81.182722       65.683922   \n",
       "Hernandez High School              80.934412       66.752967   \n",
       "Johnson High School                80.966394       66.057551   \n",
       "\n",
       "                       % Passing Reading  % Overall Passing  \\\n",
       "School Name                                                   \n",
       "Rodriguez High School          80.220055          53.239316   \n",
       "Figueroa High School           80.739234          53.278586   \n",
       "Huang High School              81.316421          53.411814   \n",
       "Hernandez High School          80.862999          53.978451   \n",
       "Johnson High School            81.222432          53.653550   \n",
       "\n",
       "                       % Overall Passing2  \n",
       "School Name                                \n",
       "Rodriguez High School           52.988247  \n",
       "Figueroa High School            53.204476  \n",
       "Huang High School               53.513884  \n",
       "Hernandez High School           53.527508  \n",
       "Johnson High School             53.539172  "
      ]
     },
     "execution_count": 167,
     "metadata": {},
     "output_type": "execute_result"
    }
   ],
   "source": [
    "bottom_schools2"
   ]
  },
  {
   "cell_type": "code",
   "execution_count": 168,
   "id": "60032192",
   "metadata": {},
   "outputs": [
    {
     "data": {
      "text/html": [
       "<div>\n",
       "<style scoped>\n",
       "    .dataframe tbody tr th:only-of-type {\n",
       "        vertical-align: middle;\n",
       "    }\n",
       "\n",
       "    .dataframe tbody tr th {\n",
       "        vertical-align: top;\n",
       "    }\n",
       "\n",
       "    .dataframe thead th {\n",
       "        text-align: right;\n",
       "    }\n",
       "</style>\n",
       "<table border=\"1\" class=\"dataframe\">\n",
       "  <thead>\n",
       "    <tr style=\"text-align: right;\">\n",
       "      <th></th>\n",
       "      <th>Average Math Score</th>\n",
       "      <th>Average Reading Score</th>\n",
       "      <th>% Passing Math</th>\n",
       "      <th>% Passing Reading</th>\n",
       "      <th>% Overall Passing</th>\n",
       "    </tr>\n",
       "    <tr>\n",
       "      <th>Spending Ranges (Per Student)</th>\n",
       "      <th></th>\n",
       "      <th></th>\n",
       "      <th></th>\n",
       "      <th></th>\n",
       "      <th></th>\n",
       "    </tr>\n",
       "  </thead>\n",
       "  <tbody>\n",
       "    <tr>\n",
       "      <th>&lt;$585</th>\n",
       "      <td>83.455399</td>\n",
       "      <td>83.933814</td>\n",
       "      <td>93.460096</td>\n",
       "      <td>96.610877</td>\n",
       "      <td>90.294121</td>\n",
       "    </tr>\n",
       "    <tr>\n",
       "      <th>$585-630</th>\n",
       "      <td>81.899826</td>\n",
       "      <td>83.155286</td>\n",
       "      <td>87.133538</td>\n",
       "      <td>92.718205</td>\n",
       "      <td>81.522301</td>\n",
       "    </tr>\n",
       "    <tr>\n",
       "      <th>$630-645</th>\n",
       "      <td>78.518855</td>\n",
       "      <td>81.624473</td>\n",
       "      <td>73.484209</td>\n",
       "      <td>84.391793</td>\n",
       "      <td>62.862209</td>\n",
       "    </tr>\n",
       "    <tr>\n",
       "      <th>$645-680</th>\n",
       "      <td>76.997210</td>\n",
       "      <td>81.027843</td>\n",
       "      <td>66.164813</td>\n",
       "      <td>81.133951</td>\n",
       "      <td>53.681272</td>\n",
       "    </tr>\n",
       "  </tbody>\n",
       "</table>\n",
       "</div>"
      ],
      "text/plain": [
       "                               Average Math Score  Average Reading Score  \\\n",
       "Spending Ranges (Per Student)                                              \n",
       "<$585                                   83.455399              83.933814   \n",
       "$585-630                                81.899826              83.155286   \n",
       "$630-645                                78.518855              81.624473   \n",
       "$645-680                                76.997210              81.027843   \n",
       "\n",
       "                               % Passing Math  % Passing Reading  \\\n",
       "Spending Ranges (Per Student)                                      \n",
       "<$585                               93.460096          96.610877   \n",
       "$585-630                            87.133538          92.718205   \n",
       "$630-645                            73.484209          84.391793   \n",
       "$645-680                            66.164813          81.133951   \n",
       "\n",
       "                               % Overall Passing  \n",
       "Spending Ranges (Per Student)                     \n",
       "<$585                                  90.294121  \n",
       "$585-630                               81.522301  \n",
       "$630-645                               62.862209  \n",
       "$645-680                               53.681272  "
      ]
     },
     "execution_count": 168,
     "metadata": {},
     "output_type": "execute_result"
    }
   ],
   "source": [
    "spending_summary"
   ]
  },
  {
   "cell_type": "code",
   "execution_count": 169,
   "id": "21dc0456",
   "metadata": {},
   "outputs": [
    {
     "data": {
      "text/html": [
       "<div>\n",
       "<style scoped>\n",
       "    .dataframe tbody tr th:only-of-type {\n",
       "        vertical-align: middle;\n",
       "    }\n",
       "\n",
       "    .dataframe tbody tr th {\n",
       "        vertical-align: top;\n",
       "    }\n",
       "\n",
       "    .dataframe thead th {\n",
       "        text-align: right;\n",
       "    }\n",
       "</style>\n",
       "<table border=\"1\" class=\"dataframe\">\n",
       "  <thead>\n",
       "    <tr style=\"text-align: right;\">\n",
       "      <th></th>\n",
       "      <th>Average Math Score</th>\n",
       "      <th>Average Reading Score</th>\n",
       "      <th>% Passing Math</th>\n",
       "      <th>% Passing Reading</th>\n",
       "      <th>% Overall Passing</th>\n",
       "    </tr>\n",
       "    <tr>\n",
       "      <th>School Size</th>\n",
       "      <th></th>\n",
       "      <th></th>\n",
       "      <th></th>\n",
       "      <th></th>\n",
       "      <th></th>\n",
       "    </tr>\n",
       "  </thead>\n",
       "  <tbody>\n",
       "    <tr>\n",
       "      <th>Small (&lt;1000)</th>\n",
       "      <td>83.821598</td>\n",
       "      <td>83.929843</td>\n",
       "      <td>93.550225</td>\n",
       "      <td>96.099437</td>\n",
       "      <td>89.899636</td>\n",
       "    </tr>\n",
       "    <tr>\n",
       "      <th>Medium (1000-2000)</th>\n",
       "      <td>83.374684</td>\n",
       "      <td>83.864438</td>\n",
       "      <td>93.599695</td>\n",
       "      <td>96.790680</td>\n",
       "      <td>90.595158</td>\n",
       "    </tr>\n",
       "    <tr>\n",
       "      <th>Large (2000-5000)</th>\n",
       "      <td>77.746417</td>\n",
       "      <td>81.344493</td>\n",
       "      <td>69.963361</td>\n",
       "      <td>82.766634</td>\n",
       "      <td>58.372910</td>\n",
       "    </tr>\n",
       "  </tbody>\n",
       "</table>\n",
       "</div>"
      ],
      "text/plain": [
       "                    Average Math Score  Average Reading Score  % Passing Math  \\\n",
       "School Size                                                                     \n",
       "Small (<1000)                83.821598              83.929843       93.550225   \n",
       "Medium (1000-2000)           83.374684              83.864438       93.599695   \n",
       "Large (2000-5000)            77.746417              81.344493       69.963361   \n",
       "\n",
       "                    % Passing Reading  % Overall Passing  \n",
       "School Size                                               \n",
       "Small (<1000)               96.099437          89.899636  \n",
       "Medium (1000-2000)          96.790680          90.595158  \n",
       "Large (2000-5000)           82.766634          58.372910  "
      ]
     },
     "execution_count": 169,
     "metadata": {},
     "output_type": "execute_result"
    }
   ],
   "source": [
    "size_summary"
   ]
  },
  {
   "cell_type": "code",
   "execution_count": 170,
   "id": "5067efc3",
   "metadata": {},
   "outputs": [
    {
     "data": {
      "text/html": [
       "<div>\n",
       "<style scoped>\n",
       "    .dataframe tbody tr th:only-of-type {\n",
       "        vertical-align: middle;\n",
       "    }\n",
       "\n",
       "    .dataframe tbody tr th {\n",
       "        vertical-align: top;\n",
       "    }\n",
       "\n",
       "    .dataframe thead th {\n",
       "        text-align: right;\n",
       "    }\n",
       "</style>\n",
       "<table border=\"1\" class=\"dataframe\">\n",
       "  <thead>\n",
       "    <tr style=\"text-align: right;\">\n",
       "      <th></th>\n",
       "      <th>Average Math Score</th>\n",
       "      <th>Average Reading Score</th>\n",
       "      <th>% Passing Math</th>\n",
       "      <th>% Passing Reading</th>\n",
       "      <th>% Overall Passing</th>\n",
       "    </tr>\n",
       "    <tr>\n",
       "      <th>School Type</th>\n",
       "      <th></th>\n",
       "      <th></th>\n",
       "      <th></th>\n",
       "      <th></th>\n",
       "      <th></th>\n",
       "    </tr>\n",
       "  </thead>\n",
       "  <tbody>\n",
       "    <tr>\n",
       "      <th>Charter</th>\n",
       "      <td>83.473852</td>\n",
       "      <td>83.896421</td>\n",
       "      <td>93.620830</td>\n",
       "      <td>96.586489</td>\n",
       "      <td>90.424327</td>\n",
       "    </tr>\n",
       "    <tr>\n",
       "      <th>District</th>\n",
       "      <td>76.956733</td>\n",
       "      <td>80.966636</td>\n",
       "      <td>66.548453</td>\n",
       "      <td>80.799062</td>\n",
       "      <td>53.766246</td>\n",
       "    </tr>\n",
       "  </tbody>\n",
       "</table>\n",
       "</div>"
      ],
      "text/plain": [
       "             Average Math Score  Average Reading Score  % Passing Math  \\\n",
       "School Type                                                              \n",
       "Charter               83.473852              83.896421       93.620830   \n",
       "District              76.956733              80.966636       66.548453   \n",
       "\n",
       "             % Passing Reading  % Overall Passing  \n",
       "School Type                                        \n",
       "Charter              96.586489          90.424327  \n",
       "District             80.799062          53.766246  "
      ]
     },
     "execution_count": 170,
     "metadata": {},
     "output_type": "execute_result"
    }
   ],
   "source": [
    "type_summary"
   ]
  },
  {
   "cell_type": "code",
   "execution_count": 171,
   "id": "d9151801",
   "metadata": {},
   "outputs": [
    {
     "data": {
      "text/html": [
       "<div>\n",
       "<style scoped>\n",
       "    .dataframe tbody tr th:only-of-type {\n",
       "        vertical-align: middle;\n",
       "    }\n",
       "\n",
       "    .dataframe tbody tr th {\n",
       "        vertical-align: top;\n",
       "    }\n",
       "\n",
       "    .dataframe thead th {\n",
       "        text-align: right;\n",
       "    }\n",
       "</style>\n",
       "<table border=\"1\" class=\"dataframe\">\n",
       "  <thead>\n",
       "    <tr style=\"text-align: right;\">\n",
       "      <th></th>\n",
       "      <th>9th</th>\n",
       "      <th>10th</th>\n",
       "      <th>11th</th>\n",
       "      <th>12th</th>\n",
       "    </tr>\n",
       "    <tr>\n",
       "      <th>school_name</th>\n",
       "      <th></th>\n",
       "      <th></th>\n",
       "      <th></th>\n",
       "      <th></th>\n",
       "    </tr>\n",
       "  </thead>\n",
       "  <tbody>\n",
       "    <tr>\n",
       "      <th>Bailey High School</th>\n",
       "      <td>77.083676</td>\n",
       "      <td>76.996772</td>\n",
       "      <td>77.515588</td>\n",
       "      <td>76.492218</td>\n",
       "    </tr>\n",
       "    <tr>\n",
       "      <th>Cabrera High School</th>\n",
       "      <td>83.094697</td>\n",
       "      <td>83.154506</td>\n",
       "      <td>82.765560</td>\n",
       "      <td>83.277487</td>\n",
       "    </tr>\n",
       "    <tr>\n",
       "      <th>Figueroa High School</th>\n",
       "      <td>76.403037</td>\n",
       "      <td>76.539974</td>\n",
       "      <td>76.884344</td>\n",
       "      <td>77.151369</td>\n",
       "    </tr>\n",
       "    <tr>\n",
       "      <th>Ford High School</th>\n",
       "      <td>77.361345</td>\n",
       "      <td>77.672316</td>\n",
       "      <td>76.918058</td>\n",
       "      <td>76.179963</td>\n",
       "    </tr>\n",
       "    <tr>\n",
       "      <th>Griffin High School</th>\n",
       "      <td>82.044010</td>\n",
       "      <td>84.229064</td>\n",
       "      <td>83.842105</td>\n",
       "      <td>83.356164</td>\n",
       "    </tr>\n",
       "    <tr>\n",
       "      <th>Hernandez High School</th>\n",
       "      <td>77.438495</td>\n",
       "      <td>77.337408</td>\n",
       "      <td>77.136029</td>\n",
       "      <td>77.186567</td>\n",
       "    </tr>\n",
       "    <tr>\n",
       "      <th>Holden High School</th>\n",
       "      <td>83.787402</td>\n",
       "      <td>83.429825</td>\n",
       "      <td>85.000000</td>\n",
       "      <td>82.855422</td>\n",
       "    </tr>\n",
       "    <tr>\n",
       "      <th>Huang High School</th>\n",
       "      <td>77.027251</td>\n",
       "      <td>75.908735</td>\n",
       "      <td>76.446602</td>\n",
       "      <td>77.225641</td>\n",
       "    </tr>\n",
       "    <tr>\n",
       "      <th>Johnson High School</th>\n",
       "      <td>77.187857</td>\n",
       "      <td>76.691117</td>\n",
       "      <td>77.491653</td>\n",
       "      <td>76.863248</td>\n",
       "    </tr>\n",
       "    <tr>\n",
       "      <th>Pena High School</th>\n",
       "      <td>83.625455</td>\n",
       "      <td>83.372000</td>\n",
       "      <td>84.328125</td>\n",
       "      <td>84.121547</td>\n",
       "    </tr>\n",
       "    <tr>\n",
       "      <th>Rodriguez High School</th>\n",
       "      <td>76.859966</td>\n",
       "      <td>76.612500</td>\n",
       "      <td>76.395626</td>\n",
       "      <td>77.690748</td>\n",
       "    </tr>\n",
       "    <tr>\n",
       "      <th>Shelton High School</th>\n",
       "      <td>83.420755</td>\n",
       "      <td>82.917411</td>\n",
       "      <td>83.383495</td>\n",
       "      <td>83.778976</td>\n",
       "    </tr>\n",
       "    <tr>\n",
       "      <th>Thomas High School</th>\n",
       "      <td>83.590022</td>\n",
       "      <td>83.087886</td>\n",
       "      <td>83.498795</td>\n",
       "      <td>83.497041</td>\n",
       "    </tr>\n",
       "    <tr>\n",
       "      <th>Wilson High School</th>\n",
       "      <td>83.085578</td>\n",
       "      <td>83.724422</td>\n",
       "      <td>83.195326</td>\n",
       "      <td>83.035794</td>\n",
       "    </tr>\n",
       "    <tr>\n",
       "      <th>Wright High School</th>\n",
       "      <td>83.264706</td>\n",
       "      <td>84.010288</td>\n",
       "      <td>83.836782</td>\n",
       "      <td>83.644986</td>\n",
       "    </tr>\n",
       "  </tbody>\n",
       "</table>\n",
       "</div>"
      ],
      "text/plain": [
       "                             9th       10th       11th       12th\n",
       "school_name                                                      \n",
       "Bailey High School     77.083676  76.996772  77.515588  76.492218\n",
       "Cabrera High School    83.094697  83.154506  82.765560  83.277487\n",
       "Figueroa High School   76.403037  76.539974  76.884344  77.151369\n",
       "Ford High School       77.361345  77.672316  76.918058  76.179963\n",
       "Griffin High School    82.044010  84.229064  83.842105  83.356164\n",
       "Hernandez High School  77.438495  77.337408  77.136029  77.186567\n",
       "Holden High School     83.787402  83.429825  85.000000  82.855422\n",
       "Huang High School      77.027251  75.908735  76.446602  77.225641\n",
       "Johnson High School    77.187857  76.691117  77.491653  76.863248\n",
       "Pena High School       83.625455  83.372000  84.328125  84.121547\n",
       "Rodriguez High School  76.859966  76.612500  76.395626  77.690748\n",
       "Shelton High School    83.420755  82.917411  83.383495  83.778976\n",
       "Thomas High School     83.590022  83.087886  83.498795  83.497041\n",
       "Wilson High School     83.085578  83.724422  83.195326  83.035794\n",
       "Wright High School     83.264706  84.010288  83.836782  83.644986"
      ]
     },
     "execution_count": 171,
     "metadata": {},
     "output_type": "execute_result"
    }
   ],
   "source": [
    "math_scores_by_grade"
   ]
  },
  {
   "cell_type": "code",
   "execution_count": 172,
   "id": "e6dce554",
   "metadata": {},
   "outputs": [
    {
     "data": {
      "text/html": [
       "<div>\n",
       "<style scoped>\n",
       "    .dataframe tbody tr th:only-of-type {\n",
       "        vertical-align: middle;\n",
       "    }\n",
       "\n",
       "    .dataframe tbody tr th {\n",
       "        vertical-align: top;\n",
       "    }\n",
       "\n",
       "    .dataframe thead th {\n",
       "        text-align: right;\n",
       "    }\n",
       "</style>\n",
       "<table border=\"1\" class=\"dataframe\">\n",
       "  <thead>\n",
       "    <tr style=\"text-align: right;\">\n",
       "      <th></th>\n",
       "      <th>9th</th>\n",
       "      <th>10th</th>\n",
       "      <th>11th</th>\n",
       "      <th>12th</th>\n",
       "    </tr>\n",
       "    <tr>\n",
       "      <th>school_name</th>\n",
       "      <th></th>\n",
       "      <th></th>\n",
       "      <th></th>\n",
       "      <th></th>\n",
       "    </tr>\n",
       "  </thead>\n",
       "  <tbody>\n",
       "    <tr>\n",
       "      <th>Bailey High School</th>\n",
       "      <td>81.303155</td>\n",
       "      <td>80.907183</td>\n",
       "      <td>80.945643</td>\n",
       "      <td>80.912451</td>\n",
       "    </tr>\n",
       "    <tr>\n",
       "      <th>Cabrera High School</th>\n",
       "      <td>83.676136</td>\n",
       "      <td>84.253219</td>\n",
       "      <td>83.788382</td>\n",
       "      <td>84.287958</td>\n",
       "    </tr>\n",
       "    <tr>\n",
       "      <th>Figueroa High School</th>\n",
       "      <td>81.198598</td>\n",
       "      <td>81.408912</td>\n",
       "      <td>80.640339</td>\n",
       "      <td>81.384863</td>\n",
       "    </tr>\n",
       "    <tr>\n",
       "      <th>Ford High School</th>\n",
       "      <td>80.632653</td>\n",
       "      <td>81.262712</td>\n",
       "      <td>80.403642</td>\n",
       "      <td>80.662338</td>\n",
       "    </tr>\n",
       "    <tr>\n",
       "      <th>Griffin High School</th>\n",
       "      <td>83.369193</td>\n",
       "      <td>83.706897</td>\n",
       "      <td>84.288089</td>\n",
       "      <td>84.013699</td>\n",
       "    </tr>\n",
       "    <tr>\n",
       "      <th>Hernandez High School</th>\n",
       "      <td>80.866860</td>\n",
       "      <td>80.660147</td>\n",
       "      <td>81.396140</td>\n",
       "      <td>80.857143</td>\n",
       "    </tr>\n",
       "    <tr>\n",
       "      <th>Holden High School</th>\n",
       "      <td>83.677165</td>\n",
       "      <td>83.324561</td>\n",
       "      <td>83.815534</td>\n",
       "      <td>84.698795</td>\n",
       "    </tr>\n",
       "    <tr>\n",
       "      <th>Huang High School</th>\n",
       "      <td>81.290284</td>\n",
       "      <td>81.512386</td>\n",
       "      <td>81.417476</td>\n",
       "      <td>80.305983</td>\n",
       "    </tr>\n",
       "    <tr>\n",
       "      <th>Johnson High School</th>\n",
       "      <td>81.260714</td>\n",
       "      <td>80.773431</td>\n",
       "      <td>80.616027</td>\n",
       "      <td>81.227564</td>\n",
       "    </tr>\n",
       "    <tr>\n",
       "      <th>Pena High School</th>\n",
       "      <td>83.807273</td>\n",
       "      <td>83.612000</td>\n",
       "      <td>84.335938</td>\n",
       "      <td>84.591160</td>\n",
       "    </tr>\n",
       "    <tr>\n",
       "      <th>Rodriguez High School</th>\n",
       "      <td>80.993127</td>\n",
       "      <td>80.629808</td>\n",
       "      <td>80.864811</td>\n",
       "      <td>80.376426</td>\n",
       "    </tr>\n",
       "    <tr>\n",
       "      <th>Shelton High School</th>\n",
       "      <td>84.122642</td>\n",
       "      <td>83.441964</td>\n",
       "      <td>84.373786</td>\n",
       "      <td>82.781671</td>\n",
       "    </tr>\n",
       "    <tr>\n",
       "      <th>Thomas High School</th>\n",
       "      <td>83.728850</td>\n",
       "      <td>84.254157</td>\n",
       "      <td>83.585542</td>\n",
       "      <td>83.831361</td>\n",
       "    </tr>\n",
       "    <tr>\n",
       "      <th>Wilson High School</th>\n",
       "      <td>83.939778</td>\n",
       "      <td>84.021452</td>\n",
       "      <td>83.764608</td>\n",
       "      <td>84.317673</td>\n",
       "    </tr>\n",
       "    <tr>\n",
       "      <th>Wright High School</th>\n",
       "      <td>83.833333</td>\n",
       "      <td>83.812757</td>\n",
       "      <td>84.156322</td>\n",
       "      <td>84.073171</td>\n",
       "    </tr>\n",
       "  </tbody>\n",
       "</table>\n",
       "</div>"
      ],
      "text/plain": [
       "                             9th       10th       11th       12th\n",
       "school_name                                                      \n",
       "Bailey High School     81.303155  80.907183  80.945643  80.912451\n",
       "Cabrera High School    83.676136  84.253219  83.788382  84.287958\n",
       "Figueroa High School   81.198598  81.408912  80.640339  81.384863\n",
       "Ford High School       80.632653  81.262712  80.403642  80.662338\n",
       "Griffin High School    83.369193  83.706897  84.288089  84.013699\n",
       "Hernandez High School  80.866860  80.660147  81.396140  80.857143\n",
       "Holden High School     83.677165  83.324561  83.815534  84.698795\n",
       "Huang High School      81.290284  81.512386  81.417476  80.305983\n",
       "Johnson High School    81.260714  80.773431  80.616027  81.227564\n",
       "Pena High School       83.807273  83.612000  84.335938  84.591160\n",
       "Rodriguez High School  80.993127  80.629808  80.864811  80.376426\n",
       "Shelton High School    84.122642  83.441964  84.373786  82.781671\n",
       "Thomas High School     83.728850  84.254157  83.585542  83.831361\n",
       "Wilson High School     83.939778  84.021452  83.764608  84.317673\n",
       "Wright High School     83.833333  83.812757  84.156322  84.073171"
      ]
     },
     "execution_count": 172,
     "metadata": {},
     "output_type": "execute_result"
    }
   ],
   "source": [
    "reading_scores_by_grade"
   ]
  },
  {
   "cell_type": "code",
   "execution_count": null,
   "id": "7dddd97a",
   "metadata": {},
   "outputs": [],
   "source": []
  },
  {
   "cell_type": "code",
   "execution_count": null,
   "id": "f9bf6c39",
   "metadata": {},
   "outputs": [],
   "source": []
  },
  {
   "cell_type": "code",
   "execution_count": null,
   "id": "e6041900",
   "metadata": {},
   "outputs": [],
   "source": []
  }
 ],
 "metadata": {
  "kernelspec": {
   "display_name": "Python 3 (ipykernel)",
   "language": "python",
   "name": "python3"
  },
  "language_info": {
   "codemirror_mode": {
    "name": "ipython",
    "version": 3
   },
   "file_extension": ".py",
   "mimetype": "text/x-python",
   "name": "python",
   "nbconvert_exporter": "python",
   "pygments_lexer": "ipython3",
   "version": "3.11.5"
  }
 },
 "nbformat": 4,
 "nbformat_minor": 5
}
